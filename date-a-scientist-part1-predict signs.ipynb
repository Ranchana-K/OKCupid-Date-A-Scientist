{
 "cells": [
  {
   "cell_type": "markdown",
   "metadata": {},
   "source": [
    "# OKCupid Date a Scientist - Part 1 Zodiac Sign Prediction\n",
    "Given clients' dataset of OKcupid - a dating company, this project's objective is to cluster these clients into groups and try to match a couple. There is only one data file which is 'profile.csv'. The dataset consists of 31 columns which are about clients. All columns are as follows:\n",
    " - **age** numeric variable of ages of users\n",
    " - **body_type** nominal categorical variable of users' body shapes such as average, thin, a little extra, etc.\n",
    " - **diet** categorical variable of users' kinds of foods they have such as anything, vegetarian, vegan, halal, etc.\n",
    " - **drinks** categorical variable that shows how often a user drink\n",
    " - **drugs** categorical variable that shows how often a user take in  drugs        \n",
    " - **education** categorical variable of users' highest education       \n",
    " - **essay0 - essay9** These ten columns provide short answers of questions below by user\n",
    "    - **essay0** My self summary\n",
    "    - **essay1** What I’m doing with my life\n",
    "    - **essay2** I’m really good at\n",
    "    - **essay3** The first thing people usually notice about me\n",
    "    - **essay4** Favorite books, movies, show, music, and food\n",
    "    - **essay5** The six things I could never do without\n",
    "    - **essay6** I spend a lot of time thinking about\n",
    "    - **essay7** On a typical Friday night I am\n",
    "    - **essay8** The most private thing I am willing to admit\n",
    "    - **essay9** You should message me if…\n",
    " - **height** numeric variable of users' height in inches           \n",
    " - **income** numeric variable of users' income   \n",
    " - **job**  categorical variable of user's job       \n",
    " - **last_online** date and time when a user is last online\n",
    " - **location** categorical variable of the area in which a user lives in         \n",
    " - **offspring** categorical variable that shows kids' status of a user and their thoughts about having more kids.      \n",
    " - **orientation** categorical variable of user's gender orientation e.g. straight, gay, bisexual      \n",
    " - **pets** categorical variable that shows pets' status of a user and their thoughts about petting animal.         \n",
    " - **religion** categorical variable of user's religion      \n",
    " - **sex** categorical variable of user's sex including 'm' for male and 'f' for female.           \n",
    " - **sign** categorical varaible of user's zodiac signs such as aries, taurus, gemini    \n",
    " - **smokes** categorical variable of how often a user smokes         \n",
    " - **speaks** a short answer of user's languages \n",
    " - **status** categorical variable of member's status such as single, available, married"
   ]
  },
  {
   "cell_type": "code",
   "execution_count": 1,
   "metadata": {},
   "outputs": [],
   "source": [
    "# import necessary libraries and change some display settings.\n",
    "import pandas as pd\n",
    "import matplotlib.pyplot as plt\n",
    "import seaborn as sns\n",
    "import numpy as np\n",
    "pd.set_option('display.max_columns', None)\n",
    "pd.set_option('display.max_colwidth', None)\n",
    "pd.set_option('display.max_rows', None)\n",
    "\n",
    "# set the settings for all figures\n",
    "plt.rcParams['font.size'] = 14\n",
    "plt.rcParams['figure.figsize'] = (8, 6)\n"
   ]
  },
  {
   "cell_type": "markdown",
   "metadata": {},
   "source": [
    "# Import data"
   ]
  },
  {
   "cell_type": "code",
   "execution_count": 2,
   "metadata": {},
   "outputs": [],
   "source": [
    "# import dataset from a csv file\n",
    "df = pd.read_csv(\"profiles.csv\")"
   ]
  },
  {
   "cell_type": "markdown",
   "metadata": {},
   "source": [
    "# Goals\n",
    "Some users believe that zodiac signs may be a good signal to indicate whether they can get along with another user given zodiac sign. However, some users do not mind about identifying their signs in their profiles. The initial goal of this project is to create a model that can predict signs for users who do not inform them. On the one hand, this project also aims at try matching a couple which are the most similar to a user."
   ]
  },
  {
   "cell_type": "markdown",
   "metadata": {},
   "source": [
    "# Exploratory Data Analysis and Cleaning Data "
   ]
  },
  {
   "cell_type": "code",
   "execution_count": 3,
   "metadata": {},
   "outputs": [
    {
     "data": {
      "text/plain": [
       "(59946, 31)"
      ]
     },
     "execution_count": 3,
     "metadata": {},
     "output_type": "execute_result"
    }
   ],
   "source": [
    "# check the dataset sizes\n",
    "df.shape"
   ]
  },
  {
   "cell_type": "code",
   "execution_count": 4,
   "metadata": {},
   "outputs": [
    {
     "name": "stdout",
     "output_type": "stream",
     "text": [
      "<class 'pandas.core.frame.DataFrame'>\n",
      "RangeIndex: 59946 entries, 0 to 59945\n",
      "Data columns (total 31 columns):\n",
      " #   Column       Non-Null Count  Dtype  \n",
      "---  ------       --------------  -----  \n",
      " 0   age          59946 non-null  int64  \n",
      " 1   body_type    54650 non-null  object \n",
      " 2   diet         35551 non-null  object \n",
      " 3   drinks       56961 non-null  object \n",
      " 4   drugs        45866 non-null  object \n",
      " 5   education    53318 non-null  object \n",
      " 6   essay0       54458 non-null  object \n",
      " 7   essay1       52374 non-null  object \n",
      " 8   essay2       50308 non-null  object \n",
      " 9   essay3       48470 non-null  object \n",
      " 10  essay4       49409 non-null  object \n",
      " 11  essay5       49096 non-null  object \n",
      " 12  essay6       46175 non-null  object \n",
      " 13  essay7       47495 non-null  object \n",
      " 14  essay8       40721 non-null  object \n",
      " 15  essay9       47343 non-null  object \n",
      " 16  ethnicity    54266 non-null  object \n",
      " 17  height       59943 non-null  float64\n",
      " 18  income       59946 non-null  int64  \n",
      " 19  job          51748 non-null  object \n",
      " 20  last_online  59946 non-null  object \n",
      " 21  location     59946 non-null  object \n",
      " 22  offspring    24385 non-null  object \n",
      " 23  orientation  59946 non-null  object \n",
      " 24  pets         40025 non-null  object \n",
      " 25  religion     39720 non-null  object \n",
      " 26  sex          59946 non-null  object \n",
      " 27  sign         48890 non-null  object \n",
      " 28  smokes       54434 non-null  object \n",
      " 29  speaks       59896 non-null  object \n",
      " 30  status       59946 non-null  object \n",
      "dtypes: float64(1), int64(2), object(28)\n",
      "memory usage: 14.2+ MB\n"
     ]
    }
   ],
   "source": [
    "# check all columns' names, their values' types and number of non-null values.\n",
    "df.info()"
   ]
  },
  {
   "cell_type": "code",
   "execution_count": 5,
   "metadata": {
    "scrolled": true
   },
   "outputs": [
    {
     "data": {
      "text/html": [
       "<div>\n",
       "<style scoped>\n",
       "    .dataframe tbody tr th:only-of-type {\n",
       "        vertical-align: middle;\n",
       "    }\n",
       "\n",
       "    .dataframe tbody tr th {\n",
       "        vertical-align: top;\n",
       "    }\n",
       "\n",
       "    .dataframe thead th {\n",
       "        text-align: right;\n",
       "    }\n",
       "</style>\n",
       "<table border=\"1\" class=\"dataframe\">\n",
       "  <thead>\n",
       "    <tr style=\"text-align: right;\">\n",
       "      <th></th>\n",
       "      <th>age</th>\n",
       "      <th>body_type</th>\n",
       "      <th>diet</th>\n",
       "      <th>drinks</th>\n",
       "      <th>drugs</th>\n",
       "      <th>education</th>\n",
       "      <th>essay0</th>\n",
       "      <th>essay1</th>\n",
       "      <th>essay2</th>\n",
       "      <th>essay3</th>\n",
       "      <th>essay4</th>\n",
       "      <th>essay5</th>\n",
       "      <th>essay6</th>\n",
       "      <th>essay7</th>\n",
       "      <th>essay8</th>\n",
       "      <th>essay9</th>\n",
       "      <th>ethnicity</th>\n",
       "      <th>height</th>\n",
       "      <th>income</th>\n",
       "      <th>job</th>\n",
       "      <th>last_online</th>\n",
       "      <th>location</th>\n",
       "      <th>offspring</th>\n",
       "      <th>orientation</th>\n",
       "      <th>pets</th>\n",
       "      <th>religion</th>\n",
       "      <th>sex</th>\n",
       "      <th>sign</th>\n",
       "      <th>smokes</th>\n",
       "      <th>speaks</th>\n",
       "      <th>status</th>\n",
       "    </tr>\n",
       "  </thead>\n",
       "  <tbody>\n",
       "    <tr>\n",
       "      <th>0</th>\n",
       "      <td>22</td>\n",
       "      <td>a little extra</td>\n",
       "      <td>strictly anything</td>\n",
       "      <td>socially</td>\n",
       "      <td>never</td>\n",
       "      <td>working on college/university</td>\n",
       "      <td>about me:&lt;br /&gt;\\n&lt;br /&gt;\\ni would love to think that i was some some kind of intellectual:\\neither the dumbest smart guy, or the smartest dumb guy. can't say i\\ncan tell the difference. i love to talk about ideas and concepts. i\\nforge odd metaphors instead of reciting cliches. like the\\nsimularities between a friend of mine's house and an underwater\\nsalt mine. my favorite word is salt by the way (weird choice i\\nknow). to me most things in life are better as metaphors. i seek to\\nmake myself a little better everyday, in some productively lazy\\nway. got tired of tying my shoes. considered hiring a five year\\nold, but would probably have to tie both of our shoes... decided to\\nonly wear leather shoes dress shoes.&lt;br /&gt;\\n&lt;br /&gt;\\nabout you:&lt;br /&gt;\\n&lt;br /&gt;\\nyou love to have really serious, really deep conversations about\\nreally silly stuff. you have to be willing to snap me out of a\\nlight hearted rant with a kiss. you don't have to be funny, but you\\nhave to be able to make me laugh. you should be able to bend spoons\\nwith your mind, and telepathically make me smile while i am still\\nat work. you should love life, and be cool with just letting the\\nwind blow. extra points for reading all this and guessing my\\nfavorite video game (no hints given yet). and lastly you have a\\ngood attention span.</td>\n",
       "      <td>currently working as an international agent for a freight\\nforwarding company. import, export, domestic you know the\\nworks.&lt;br /&gt;\\nonline classes and trying to better myself in my free time. perhaps\\na hours worth of a good book or a video game on a lazy sunday.</td>\n",
       "      <td>making people laugh.&lt;br /&gt;\\nranting about a good salting.&lt;br /&gt;\\nfinding simplicity in complexity, and complexity in simplicity.</td>\n",
       "      <td>the way i look. i am a six foot half asian, half caucasian mutt. it\\nmakes it tough not to notice me, and for me to blend in.</td>\n",
       "      <td>books:&lt;br /&gt;\\nabsurdistan, the republic, of mice and men (only book that made me\\nwant to cry), catcher in the rye, the prince.&lt;br /&gt;\\n&lt;br /&gt;\\nmovies:&lt;br /&gt;\\ngladiator, operation valkyrie, the producers, down periscope.&lt;br /&gt;\\n&lt;br /&gt;\\nshows:&lt;br /&gt;\\nthe borgia, arrested development, game of thrones, monty\\npython&lt;br /&gt;\\n&lt;br /&gt;\\nmusic:&lt;br /&gt;\\naesop rock, hail mary mallon, george thorogood and the delaware\\ndestroyers, felt&lt;br /&gt;\\n&lt;br /&gt;\\nfood:&lt;br /&gt;\\ni'm down for anything.</td>\n",
       "      <td>food.&lt;br /&gt;\\nwater.&lt;br /&gt;\\ncell phone.&lt;br /&gt;\\nshelter.</td>\n",
       "      <td>duality and humorous things</td>\n",
       "      <td>trying to find someone to hang out with. i am down for anything\\nexcept a club.</td>\n",
       "      <td>i am new to california and looking for someone to wisper my secrets\\nto.</td>\n",
       "      <td>you want to be swept off your feet!&lt;br /&gt;\\nyou are tired of the norm.&lt;br /&gt;\\nyou want to catch a coffee or a bite.&lt;br /&gt;\\nor if you want to talk philosophy.</td>\n",
       "      <td>asian, white</td>\n",
       "      <td>75.0</td>\n",
       "      <td>-1</td>\n",
       "      <td>transportation</td>\n",
       "      <td>2012-06-28-20-30</td>\n",
       "      <td>south san francisco, california</td>\n",
       "      <td>doesn&amp;rsquo;t have kids, but might want them</td>\n",
       "      <td>straight</td>\n",
       "      <td>likes dogs and likes cats</td>\n",
       "      <td>agnosticism and very serious about it</td>\n",
       "      <td>m</td>\n",
       "      <td>gemini</td>\n",
       "      <td>sometimes</td>\n",
       "      <td>english</td>\n",
       "      <td>single</td>\n",
       "    </tr>\n",
       "    <tr>\n",
       "      <th>1</th>\n",
       "      <td>35</td>\n",
       "      <td>average</td>\n",
       "      <td>mostly other</td>\n",
       "      <td>often</td>\n",
       "      <td>sometimes</td>\n",
       "      <td>working on space camp</td>\n",
       "      <td>i am a chef: this is what that means.&lt;br /&gt;\\n1. i am a workaholic.&lt;br /&gt;\\n2. i love to cook regardless of whether i am at work.&lt;br /&gt;\\n3. i love to drink and eat foods that are probably really bad for\\nme.&lt;br /&gt;\\n4. i love being around people that resemble line 1-3.&lt;br /&gt;\\ni love the outdoors and i am an avid skier. if its snowing i will\\nbe in tahoe at the very least. i am a very confident and friendly.\\ni'm not interested in acting or being a typical guy. i have no time\\nor patience for rediculous acts of territorial pissing. overall i\\nam a very likable easygoing individual. i am very adventurous and\\nalways looking forward to doing new things and hopefully sharing it\\nwith the right person.</td>\n",
       "      <td>dedicating everyday to being an unbelievable badass.</td>\n",
       "      <td>being silly. having ridiculous amonts of fun wherever. being a\\nsmart ass. ohh and i can cook. ;)</td>\n",
       "      <td>NaN</td>\n",
       "      <td>i am die hard christopher moore fan. i don't really watch a lot of\\ntv unless there is humor involved. i am kind of stuck on 90's\\nalternative music. i am pretty much a fan of everything though... i\\ndo need to draw a line at most types of electronica.</td>\n",
       "      <td>delicious porkness in all of its glories.&lt;br /&gt;\\nmy big ass doughboy's sinking into 15 new inches.&lt;br /&gt;\\nmy overly resilient liver.&lt;br /&gt;\\na good sharp knife.&lt;br /&gt;\\nmy ps3... it plays blurays too. ;)&lt;br /&gt;\\nmy over the top energy and my outlook on life... just give me a bag\\nof lemons and see what happens. ;)</td>\n",
       "      <td>NaN</td>\n",
       "      <td>NaN</td>\n",
       "      <td>i am very open and will share just about anything.</td>\n",
       "      <td>NaN</td>\n",
       "      <td>white</td>\n",
       "      <td>70.0</td>\n",
       "      <td>80000</td>\n",
       "      <td>hospitality / travel</td>\n",
       "      <td>2012-06-29-21-41</td>\n",
       "      <td>oakland, california</td>\n",
       "      <td>doesn&amp;rsquo;t have kids, but might want them</td>\n",
       "      <td>straight</td>\n",
       "      <td>likes dogs and likes cats</td>\n",
       "      <td>agnosticism but not too serious about it</td>\n",
       "      <td>m</td>\n",
       "      <td>cancer</td>\n",
       "      <td>no</td>\n",
       "      <td>english (fluently), spanish (poorly), french (poorly)</td>\n",
       "      <td>single</td>\n",
       "    </tr>\n",
       "    <tr>\n",
       "      <th>2</th>\n",
       "      <td>38</td>\n",
       "      <td>thin</td>\n",
       "      <td>anything</td>\n",
       "      <td>socially</td>\n",
       "      <td>NaN</td>\n",
       "      <td>graduated from masters program</td>\n",
       "      <td>i'm not ashamed of much, but writing public text on an online\\ndating site makes me pleasantly uncomfortable. i'll try to be as\\nearnest as possible in the noble endeavor of standing naked before\\nthe world.&lt;br /&gt;\\n&lt;br /&gt;\\ni've lived in san francisco for 15 years, and both love it and find\\nmyself frustrated with its deficits. lots of great friends and\\nacquaintances (which increases my apprehension to put anything on\\nthis site), but i'm feeling like meeting some new people that\\naren't just friends of friends. it's okay if you are a friend of a\\nfriend too. chances are, if you make it through the complex\\nfiltering process of multiple choice questions, lifestyle\\nstatistics, photo scanning, and these indulgent blurbs of text\\nwithout moving quickly on to another search result, you are\\nprobably already a cultural peer and at most 2 people removed. at\\nfirst, i thought i should say as little as possible here to avoid\\nyou, but that seems silly.&lt;br /&gt;\\n&lt;br /&gt;\\nas far as culture goes, i'm definitely more on the weird side of\\nthe spectrum, but i don't exactly wear it on my sleeve. once you\\nget me talking, it will probably become increasingly apparent that\\nwhile i'd like to think of myself as just like everybody else (and\\nby some definition i certainly am), most people don't see me that\\nway. that's fine with me. most of the people i find myself\\ngravitating towards are pretty weird themselves. you probably are\\ntoo.</td>\n",
       "      <td>i make nerdy software for musicians, artists, and experimenters to\\nindulge in their own weirdness, but i like to spend time away from\\nthe computer when working on my artwork (which is typically more\\nconcerned with group dynamics and communication, than with visual\\nform, objects, or technology). i also record and deejay dance,\\nnoise, pop, and experimental music (most of which electronic or at\\nleast studio based). besides these relatively ego driven\\nactivities, i've been enjoying things like meditation and tai chi\\nto try and gently flirt with ego death.</td>\n",
       "      <td>improvising in different contexts. alternating between being\\npresent and decidedly outside of a moment, or trying to hold both\\nat once. rambling intellectual conversations that hold said\\nconversations in contempt while seeking to find something that\\ntranscends them. being critical while remaining generous. listening\\nto and using body language--often performed in caricature or large\\ngestures, if not outright interpretive dance. dry, dark, and\\nraunchy humor.</td>\n",
       "      <td>my large jaw and large glasses are the physical things people\\ncomment on the most. when sufficiently stimulated, i have an\\nunmistakable cackle of a laugh. after that, it goes in more\\ndirections than i care to describe right now. maybe i'll come back\\nto this.</td>\n",
       "      <td>okay this is where the cultural matrix gets so specific, it's like\\nbeing in the crosshairs.&lt;br /&gt;\\n&lt;br /&gt;\\nfor what it's worth, i find myself reading more non-fiction than\\nfiction. it's usually some kind of philosophy, art, or science text\\nby silly authors such as ranciere, de certeau, bataille,\\nbaudrillard, butler, stein, arendt, nietzche, zizek, etc. i'll\\noften throw in some weird new age or pop-psychology book in the mix\\nas well. as for fiction, i enjoy what little i've read of eco,\\nperec, wallace, bolao, dick, vonnegut, atwood, delilo, etc. when i\\nwas young, i was a rabid asimov reader.&lt;br /&gt;\\n&lt;br /&gt;\\ndirectors i find myself drawn to are makavejev, kuchar, jodorowsky,\\nherzog, hara, klein, waters, verhoeven, ackerman, hitchcock, lang,\\ngorin, goddard, miike, ohbayashi, tarkovsky, sokurov, warhol, etc.\\nbut i also like a good amount of \"trashy\" stuff. too much to\\nname.&lt;br /&gt;\\n&lt;br /&gt;\\ni definitely enjoy the character development that happens in long\\nform episodic television over the course of 10-100 episodes, which\\na 1-2hr movie usually can't compete with. some of my recent tv\\nfavorites are: breaking bad, the wire, dexter, true blood, the\\nprisoner, lost, fringe.&lt;br /&gt;\\n&lt;br /&gt;\\na smattered sampling of the vast field of music i like and deejay:\\nart ensemble, sun ra, evan parker, lil wayne, dj funk, mr. fingers,\\nmaurizio, rob hood, dan bell, james blake, nonesuch recordings,\\nomar souleyman, ethiopiques, fela kuti, john cage, meredith monk,\\nrobert ashley, terry riley, yoko ono, merzbow, tom tom club, jit,\\njuke, bounce, hyphy, snap, crunk, b'more, kuduro, pop, noise, jazz,\\ntechno, house, acid, new/no wave, (post)punk, etc.&lt;br /&gt;\\n&lt;br /&gt;\\na few of the famous art/dance/theater folk that might locate my\\nsensibility: andy warhol, bruce nauman, yayoi kusama, louise\\nbourgeois, tino sehgal, george kuchar, michel duchamp, marina\\nabramovic, gelatin, carolee schneeman, gustav metzger, mike kelly,\\nmike smith, andrea fraser, gordon matta-clark, jerzy grotowski,\\nsamuel beckett, antonin artaud, tadeusz kantor, anna halperin,\\nmerce cunningham, etc. i'm clearly leaving out a younger generation\\nof contemporary artists, many of whom are friends.&lt;br /&gt;\\n&lt;br /&gt;\\nlocal food regulars: sushi zone, chow, ppq, pagolac, lers ros,\\nburma superstar, minako, shalimar, delfina pizza, rosamunde,\\narinells, suppenkuche, cha-ya, blue plate, golden era, etc.</td>\n",
       "      <td>movement&lt;br /&gt;\\nconversation&lt;br /&gt;\\ncreation&lt;br /&gt;\\ncontemplation&lt;br /&gt;\\ntouch&lt;br /&gt;\\nhumor</td>\n",
       "      <td>NaN</td>\n",
       "      <td>viewing. listening. dancing. talking. drinking. performing.</td>\n",
       "      <td>when i was five years old, i was known as \"the boogerman\".</td>\n",
       "      <td>you are bright, open, intense, silly, ironic, critical, caring,\\ngenerous, looking for an exploration, rather than finding \"a match\"\\nof some predetermined qualities.&lt;br /&gt;\\n&lt;br /&gt;\\ni'm currently in a fabulous and open relationship, so you should be\\ncomfortable with that.</td>\n",
       "      <td>NaN</td>\n",
       "      <td>68.0</td>\n",
       "      <td>-1</td>\n",
       "      <td>NaN</td>\n",
       "      <td>2012-06-27-09-10</td>\n",
       "      <td>san francisco, california</td>\n",
       "      <td>NaN</td>\n",
       "      <td>straight</td>\n",
       "      <td>has cats</td>\n",
       "      <td>NaN</td>\n",
       "      <td>m</td>\n",
       "      <td>pisces but it doesn&amp;rsquo;t matter</td>\n",
       "      <td>no</td>\n",
       "      <td>english, french, c++</td>\n",
       "      <td>available</td>\n",
       "    </tr>\n",
       "    <tr>\n",
       "      <th>3</th>\n",
       "      <td>23</td>\n",
       "      <td>thin</td>\n",
       "      <td>vegetarian</td>\n",
       "      <td>socially</td>\n",
       "      <td>NaN</td>\n",
       "      <td>working on college/university</td>\n",
       "      <td>i work in a library and go to school. . .</td>\n",
       "      <td>reading things written by old dead people</td>\n",
       "      <td>playing synthesizers and organizing books according to the library\\nof congress classification system</td>\n",
       "      <td>socially awkward but i do my best</td>\n",
       "      <td>bataille, celine, beckett. . .&lt;br /&gt;\\nlynch, jarmusch, r.w. fassbender. . .&lt;br /&gt;\\ntwin peaks &amp;amp; fishing w/ john&lt;br /&gt;\\njoy division, throbbing gristle, cabaret voltaire. . .&lt;br /&gt;\\nvegetarian pho and coffee</td>\n",
       "      <td>NaN</td>\n",
       "      <td>cats and german philosophy</td>\n",
       "      <td>NaN</td>\n",
       "      <td>NaN</td>\n",
       "      <td>you feel so inclined.</td>\n",
       "      <td>white</td>\n",
       "      <td>71.0</td>\n",
       "      <td>20000</td>\n",
       "      <td>student</td>\n",
       "      <td>2012-06-28-14-22</td>\n",
       "      <td>berkeley, california</td>\n",
       "      <td>doesn&amp;rsquo;t want kids</td>\n",
       "      <td>straight</td>\n",
       "      <td>likes cats</td>\n",
       "      <td>NaN</td>\n",
       "      <td>m</td>\n",
       "      <td>pisces</td>\n",
       "      <td>no</td>\n",
       "      <td>english, german (poorly)</td>\n",
       "      <td>single</td>\n",
       "    </tr>\n",
       "    <tr>\n",
       "      <th>4</th>\n",
       "      <td>29</td>\n",
       "      <td>athletic</td>\n",
       "      <td>NaN</td>\n",
       "      <td>socially</td>\n",
       "      <td>never</td>\n",
       "      <td>graduated from college/university</td>\n",
       "      <td>hey how's it going? currently vague on the profile i know, more to\\ncome soon. looking to meet new folks outside of my circle of\\nfriends. i'm pretty responsive on the reply tip, feel free to drop\\na line. cheers.</td>\n",
       "      <td>work work work work + play</td>\n",
       "      <td>creating imagery to look at:&lt;br /&gt;\\nhttp://bagsbrown.blogspot.com/&lt;br /&gt;\\nhttp://stayruly.blogspot.com/</td>\n",
       "      <td>i smile a lot and my inquisitive nature</td>\n",
       "      <td>music: bands, rappers, musicians&lt;br /&gt;\\nat the moment: thee oh sees.&lt;br /&gt;\\nforever: wu-tang&lt;br /&gt;\\nbooks: artbooks for days&lt;br /&gt;\\naudiobooks: my collection, thick (thanks audible)&lt;br /&gt;\\nshows: live ones&lt;br /&gt;\\nfood: with stellar friends whenever&lt;br /&gt;\\nmovies &amp;gt; tv&lt;br /&gt;\\npodcast: radiolab, this american life, the moth, joe rogan, the\\nchamps</td>\n",
       "      <td>NaN</td>\n",
       "      <td>NaN</td>\n",
       "      <td>NaN</td>\n",
       "      <td>NaN</td>\n",
       "      <td>NaN</td>\n",
       "      <td>asian, black, other</td>\n",
       "      <td>66.0</td>\n",
       "      <td>-1</td>\n",
       "      <td>artistic / musical / writer</td>\n",
       "      <td>2012-06-27-21-26</td>\n",
       "      <td>san francisco, california</td>\n",
       "      <td>NaN</td>\n",
       "      <td>straight</td>\n",
       "      <td>likes dogs and likes cats</td>\n",
       "      <td>NaN</td>\n",
       "      <td>m</td>\n",
       "      <td>aquarius</td>\n",
       "      <td>no</td>\n",
       "      <td>english</td>\n",
       "      <td>single</td>\n",
       "    </tr>\n",
       "  </tbody>\n",
       "</table>\n",
       "</div>"
      ],
      "text/plain": [
       "   age       body_type               diet    drinks      drugs  \\\n",
       "0   22  a little extra  strictly anything  socially      never   \n",
       "1   35         average       mostly other     often  sometimes   \n",
       "2   38            thin           anything  socially        NaN   \n",
       "3   23            thin         vegetarian  socially        NaN   \n",
       "4   29        athletic                NaN  socially      never   \n",
       "\n",
       "                           education  \\\n",
       "0      working on college/university   \n",
       "1              working on space camp   \n",
       "2     graduated from masters program   \n",
       "3      working on college/university   \n",
       "4  graduated from college/university   \n",
       "\n",
       "                                                                                                                                                                                                                                                                                                                                                                                                                                                                                                                                                                                                                                                                                                                                                                                                                                                                                                                                                                                                                                                                                                                                                                                                                                                                                                                                                                                                                                                                                              essay0  \\\n",
       "0                                                                                                                                    about me:<br />\\n<br />\\ni would love to think that i was some some kind of intellectual:\\neither the dumbest smart guy, or the smartest dumb guy. can't say i\\ncan tell the difference. i love to talk about ideas and concepts. i\\nforge odd metaphors instead of reciting cliches. like the\\nsimularities between a friend of mine's house and an underwater\\nsalt mine. my favorite word is salt by the way (weird choice i\\nknow). to me most things in life are better as metaphors. i seek to\\nmake myself a little better everyday, in some productively lazy\\nway. got tired of tying my shoes. considered hiring a five year\\nold, but would probably have to tie both of our shoes... decided to\\nonly wear leather shoes dress shoes.<br />\\n<br />\\nabout you:<br />\\n<br />\\nyou love to have really serious, really deep conversations about\\nreally silly stuff. you have to be willing to snap me out of a\\nlight hearted rant with a kiss. you don't have to be funny, but you\\nhave to be able to make me laugh. you should be able to bend spoons\\nwith your mind, and telepathically make me smile while i am still\\nat work. you should love life, and be cool with just letting the\\nwind blow. extra points for reading all this and guessing my\\nfavorite video game (no hints given yet). and lastly you have a\\ngood attention span.   \n",
       "1                                                                                                                                                                                                                                                                                                                                                                                                                                                                                                                                                                                                                                                                                                                                                                    i am a chef: this is what that means.<br />\\n1. i am a workaholic.<br />\\n2. i love to cook regardless of whether i am at work.<br />\\n3. i love to drink and eat foods that are probably really bad for\\nme.<br />\\n4. i love being around people that resemble line 1-3.<br />\\ni love the outdoors and i am an avid skier. if its snowing i will\\nbe in tahoe at the very least. i am a very confident and friendly.\\ni'm not interested in acting or being a typical guy. i have no time\\nor patience for rediculous acts of territorial pissing. overall i\\nam a very likable easygoing individual. i am very adventurous and\\nalways looking forward to doing new things and hopefully sharing it\\nwith the right person.   \n",
       "2  i'm not ashamed of much, but writing public text on an online\\ndating site makes me pleasantly uncomfortable. i'll try to be as\\nearnest as possible in the noble endeavor of standing naked before\\nthe world.<br />\\n<br />\\ni've lived in san francisco for 15 years, and both love it and find\\nmyself frustrated with its deficits. lots of great friends and\\nacquaintances (which increases my apprehension to put anything on\\nthis site), but i'm feeling like meeting some new people that\\naren't just friends of friends. it's okay if you are a friend of a\\nfriend too. chances are, if you make it through the complex\\nfiltering process of multiple choice questions, lifestyle\\nstatistics, photo scanning, and these indulgent blurbs of text\\nwithout moving quickly on to another search result, you are\\nprobably already a cultural peer and at most 2 people removed. at\\nfirst, i thought i should say as little as possible here to avoid\\nyou, but that seems silly.<br />\\n<br />\\nas far as culture goes, i'm definitely more on the weird side of\\nthe spectrum, but i don't exactly wear it on my sleeve. once you\\nget me talking, it will probably become increasingly apparent that\\nwhile i'd like to think of myself as just like everybody else (and\\nby some definition i certainly am), most people don't see me that\\nway. that's fine with me. most of the people i find myself\\ngravitating towards are pretty weird themselves. you probably are\\ntoo.   \n",
       "3                                                                                                                                                                                                                                                                                                                                                                                                                                                                                                                                                                                                                                                                                                                                                                                                                                                                                                                                                                                                                                                                                                                                                                                                                                                                                                                                                                                                                                                          i work in a library and go to school. . .   \n",
       "4                                                                                                                                                                                                                                                                                                                                                                                                                                                                                                                                                                                                                                                                                                                                                                                                                                                                                                                                                                                                                                                                                                                                                                                                                                                                              hey how's it going? currently vague on the profile i know, more to\\ncome soon. looking to meet new folks outside of my circle of\\nfriends. i'm pretty responsive on the reply tip, feel free to drop\\na line. cheers.   \n",
       "\n",
       "                                                                                                                                                                                                                                                                                                                                                                                                                                                                                                                                                                                  essay1  \\\n",
       "0                                                                                                                                                                                                                                                                                                                currently working as an international agent for a freight\\nforwarding company. import, export, domestic you know the\\nworks.<br />\\nonline classes and trying to better myself in my free time. perhaps\\na hours worth of a good book or a video game on a lazy sunday.   \n",
       "1                                                                                                                                                                                                                                                                                                                                                                                                                                                                                                                                   dedicating everyday to being an unbelievable badass.   \n",
       "2  i make nerdy software for musicians, artists, and experimenters to\\nindulge in their own weirdness, but i like to spend time away from\\nthe computer when working on my artwork (which is typically more\\nconcerned with group dynamics and communication, than with visual\\nform, objects, or technology). i also record and deejay dance,\\nnoise, pop, and experimental music (most of which electronic or at\\nleast studio based). besides these relatively ego driven\\nactivities, i've been enjoying things like meditation and tai chi\\nto try and gently flirt with ego death.   \n",
       "3                                                                                                                                                                                                                                                                                                                                                                                                                                                                                                                                              reading things written by old dead people   \n",
       "4                                                                                                                                                                                                                                                                                                                                                                                                                                                                                                                                                             work work work work + play   \n",
       "\n",
       "                                                                                                                                                                                                                                                                                                                                                                                                                                                                                essay2  \\\n",
       "0                                                                                                                                                                                                                                                                                                                                                     making people laugh.<br />\\nranting about a good salting.<br />\\nfinding simplicity in complexity, and complexity in simplicity.   \n",
       "1                                                                                                                                                                                                                                                                                                                                                                                    being silly. having ridiculous amonts of fun wherever. being a\\nsmart ass. ohh and i can cook. ;)   \n",
       "2  improvising in different contexts. alternating between being\\npresent and decidedly outside of a moment, or trying to hold both\\nat once. rambling intellectual conversations that hold said\\nconversations in contempt while seeking to find something that\\ntranscends them. being critical while remaining generous. listening\\nto and using body language--often performed in caricature or large\\ngestures, if not outright interpretive dance. dry, dark, and\\nraunchy humor.   \n",
       "3                                                                                                                                                                                                                                                                                                                                                                                playing synthesizers and organizing books according to the library\\nof congress classification system   \n",
       "4                                                                                                                                                                                                                                                                                                                                                                              creating imagery to look at:<br />\\nhttp://bagsbrown.blogspot.com/<br />\\nhttp://stayruly.blogspot.com/   \n",
       "\n",
       "                                                                                                                                                                                                                                                                   essay3  \\\n",
       "0                                                                                                                                           the way i look. i am a six foot half asian, half caucasian mutt. it\\nmakes it tough not to notice me, and for me to blend in.   \n",
       "1                                                                                                                                                                                                                                                                     NaN   \n",
       "2  my large jaw and large glasses are the physical things people\\ncomment on the most. when sufficiently stimulated, i have an\\nunmistakable cackle of a laugh. after that, it goes in more\\ndirections than i care to describe right now. maybe i'll come back\\nto this.   \n",
       "3                                                                                                                                                                                                                                       socially awkward but i do my best   \n",
       "4                                                                                                                                                                                                                                 i smile a lot and my inquisitive nature   \n",
       "\n",
       "                                                                                                                                                                                                                                                                                                                                                                                                                                                                                                                                                                                                                                                                                                                                                                                                                                                                                                                                                                                                                                                                                                                                                                                                                                                                                                                                                                                                                                                                                                                                                                                                                                                                                                                                                                                                                                                                                                                                                                                                                                                                                                                                                                                                                                                                                                                                                                                                                                                                                  essay4  \\\n",
       "0                                                                                                                                                                                                                                                                                                                                                                                                                                                                                                                                                                                                                                                                                                                                                                                                                                                                                                                                                                                                                                                                                                                                                                                                                                                                                                                                                                                                                                                                                                                                                                                                                                                                                                                                                                                                                                                                                                                                                                                            books:<br />\\nabsurdistan, the republic, of mice and men (only book that made me\\nwant to cry), catcher in the rye, the prince.<br />\\n<br />\\nmovies:<br />\\ngladiator, operation valkyrie, the producers, down periscope.<br />\\n<br />\\nshows:<br />\\nthe borgia, arrested development, game of thrones, monty\\npython<br />\\n<br />\\nmusic:<br />\\naesop rock, hail mary mallon, george thorogood and the delaware\\ndestroyers, felt<br />\\n<br />\\nfood:<br />\\ni'm down for anything.   \n",
       "1                                                                                                                                                                                                                                                                                                                                                                                                                                                                                                                                                                                                                                                                                                                                                                                                                                                                                                                                                                                                                                                                                                                                                                                                                                                                                                                                                                                                                                                                                                                                                                                                                                                                                                                                                                                                                                                                                                                                                                                                                                                                                                                                                                                                                           i am die hard christopher moore fan. i don't really watch a lot of\\ntv unless there is humor involved. i am kind of stuck on 90's\\nalternative music. i am pretty much a fan of everything though... i\\ndo need to draw a line at most types of electronica.   \n",
       "2  okay this is where the cultural matrix gets so specific, it's like\\nbeing in the crosshairs.<br />\\n<br />\\nfor what it's worth, i find myself reading more non-fiction than\\nfiction. it's usually some kind of philosophy, art, or science text\\nby silly authors such as ranciere, de certeau, bataille,\\nbaudrillard, butler, stein, arendt, nietzche, zizek, etc. i'll\\noften throw in some weird new age or pop-psychology book in the mix\\nas well. as for fiction, i enjoy what little i've read of eco,\\nperec, wallace, bolao, dick, vonnegut, atwood, delilo, etc. when i\\nwas young, i was a rabid asimov reader.<br />\\n<br />\\ndirectors i find myself drawn to are makavejev, kuchar, jodorowsky,\\nherzog, hara, klein, waters, verhoeven, ackerman, hitchcock, lang,\\ngorin, goddard, miike, ohbayashi, tarkovsky, sokurov, warhol, etc.\\nbut i also like a good amount of \"trashy\" stuff. too much to\\nname.<br />\\n<br />\\ni definitely enjoy the character development that happens in long\\nform episodic television over the course of 10-100 episodes, which\\na 1-2hr movie usually can't compete with. some of my recent tv\\nfavorites are: breaking bad, the wire, dexter, true blood, the\\nprisoner, lost, fringe.<br />\\n<br />\\na smattered sampling of the vast field of music i like and deejay:\\nart ensemble, sun ra, evan parker, lil wayne, dj funk, mr. fingers,\\nmaurizio, rob hood, dan bell, james blake, nonesuch recordings,\\nomar souleyman, ethiopiques, fela kuti, john cage, meredith monk,\\nrobert ashley, terry riley, yoko ono, merzbow, tom tom club, jit,\\njuke, bounce, hyphy, snap, crunk, b'more, kuduro, pop, noise, jazz,\\ntechno, house, acid, new/no wave, (post)punk, etc.<br />\\n<br />\\na few of the famous art/dance/theater folk that might locate my\\nsensibility: andy warhol, bruce nauman, yayoi kusama, louise\\nbourgeois, tino sehgal, george kuchar, michel duchamp, marina\\nabramovic, gelatin, carolee schneeman, gustav metzger, mike kelly,\\nmike smith, andrea fraser, gordon matta-clark, jerzy grotowski,\\nsamuel beckett, antonin artaud, tadeusz kantor, anna halperin,\\nmerce cunningham, etc. i'm clearly leaving out a younger generation\\nof contemporary artists, many of whom are friends.<br />\\n<br />\\nlocal food regulars: sushi zone, chow, ppq, pagolac, lers ros,\\nburma superstar, minako, shalimar, delfina pizza, rosamunde,\\narinells, suppenkuche, cha-ya, blue plate, golden era, etc.   \n",
       "3                                                                                                                                                                                                                                                                                                                                                                                                                                                                                                                                                                                                                                                                                                                                                                                                                                                                                                                                                                                                                                                                                                                                                                                                                                                                                                                                                                                                                                                                                                                                                                                                                                                                                                                                                                                                                                                                                                                                                                                                                                                                                                                                                                                                                                                                     bataille, celine, beckett. . .<br />\\nlynch, jarmusch, r.w. fassbender. . .<br />\\ntwin peaks &amp; fishing w/ john<br />\\njoy division, throbbing gristle, cabaret voltaire. . .<br />\\nvegetarian pho and coffee   \n",
       "4                                                                                                                                                                                                                                                                                                                                                                                                                                                                                                                                                                                                                                                                                                                                                                                                                                                                                                                                                                                                                                                                                                                                                                                                                                                                                                                                                                                                                                                                                                                                                                                                                                                                                                                                                                                                                                                                                                                                                                                                                                                                                                                          music: bands, rappers, musicians<br />\\nat the moment: thee oh sees.<br />\\nforever: wu-tang<br />\\nbooks: artbooks for days<br />\\naudiobooks: my collection, thick (thanks audible)<br />\\nshows: live ones<br />\\nfood: with stellar friends whenever<br />\\nmovies &gt; tv<br />\\npodcast: radiolab, this american life, the moth, joe rogan, the\\nchamps   \n",
       "\n",
       "                                                                                                                                                                                                                                                                                                                     essay5  \\\n",
       "0                                                                                                                                                                                                                                                                    food.<br />\\nwater.<br />\\ncell phone.<br />\\nshelter.   \n",
       "1  delicious porkness in all of its glories.<br />\\nmy big ass doughboy's sinking into 15 new inches.<br />\\nmy overly resilient liver.<br />\\na good sharp knife.<br />\\nmy ps3... it plays blurays too. ;)<br />\\nmy over the top energy and my outlook on life... just give me a bag\\nof lemons and see what happens. ;)   \n",
       "2                                                                                                                                                                                                                               movement<br />\\nconversation<br />\\ncreation<br />\\ncontemplation<br />\\ntouch<br />\\nhumor   \n",
       "3                                                                                                                                                                                                                                                                                                                       NaN   \n",
       "4                                                                                                                                                                                                                                                                                                                       NaN   \n",
       "\n",
       "                        essay6  \\\n",
       "0  duality and humorous things   \n",
       "1                          NaN   \n",
       "2                          NaN   \n",
       "3   cats and german philosophy   \n",
       "4                          NaN   \n",
       "\n",
       "                                                                            essay7  \\\n",
       "0  trying to find someone to hang out with. i am down for anything\\nexcept a club.   \n",
       "1                                                                              NaN   \n",
       "2                      viewing. listening. dancing. talking. drinking. performing.   \n",
       "3                                                                              NaN   \n",
       "4                                                                              NaN   \n",
       "\n",
       "                                                                     essay8  \\\n",
       "0  i am new to california and looking for someone to wisper my secrets\\nto.   \n",
       "1                        i am very open and will share just about anything.   \n",
       "2                when i was five years old, i was known as \"the boogerman\".   \n",
       "3                                                                       NaN   \n",
       "4                                                                       NaN   \n",
       "\n",
       "                                                                                                                                                                                                                                                                              essay9  \\\n",
       "0                                                                                                                       you want to be swept off your feet!<br />\\nyou are tired of the norm.<br />\\nyou want to catch a coffee or a bite.<br />\\nor if you want to talk philosophy.   \n",
       "1                                                                                                                                                                                                                                                                                NaN   \n",
       "2  you are bright, open, intense, silly, ironic, critical, caring,\\ngenerous, looking for an exploration, rather than finding \"a match\"\\nof some predetermined qualities.<br />\\n<br />\\ni'm currently in a fabulous and open relationship, so you should be\\ncomfortable with that.   \n",
       "3                                                                                                                                                                                                                                                              you feel so inclined.   \n",
       "4                                                                                                                                                                                                                                                                                NaN   \n",
       "\n",
       "             ethnicity  height  income                          job  \\\n",
       "0         asian, white    75.0      -1               transportation   \n",
       "1                white    70.0   80000         hospitality / travel   \n",
       "2                  NaN    68.0      -1                          NaN   \n",
       "3                white    71.0   20000                      student   \n",
       "4  asian, black, other    66.0      -1  artistic / musical / writer   \n",
       "\n",
       "        last_online                         location  \\\n",
       "0  2012-06-28-20-30  south san francisco, california   \n",
       "1  2012-06-29-21-41              oakland, california   \n",
       "2  2012-06-27-09-10        san francisco, california   \n",
       "3  2012-06-28-14-22             berkeley, california   \n",
       "4  2012-06-27-21-26        san francisco, california   \n",
       "\n",
       "                                      offspring orientation  \\\n",
       "0  doesn&rsquo;t have kids, but might want them    straight   \n",
       "1  doesn&rsquo;t have kids, but might want them    straight   \n",
       "2                                           NaN    straight   \n",
       "3                       doesn&rsquo;t want kids    straight   \n",
       "4                                           NaN    straight   \n",
       "\n",
       "                        pets                                  religion sex  \\\n",
       "0  likes dogs and likes cats     agnosticism and very serious about it   m   \n",
       "1  likes dogs and likes cats  agnosticism but not too serious about it   m   \n",
       "2                   has cats                                       NaN   m   \n",
       "3                 likes cats                                       NaN   m   \n",
       "4  likes dogs and likes cats                                       NaN   m   \n",
       "\n",
       "                                 sign     smokes  \\\n",
       "0                              gemini  sometimes   \n",
       "1                              cancer         no   \n",
       "2  pisces but it doesn&rsquo;t matter         no   \n",
       "3                              pisces         no   \n",
       "4                            aquarius         no   \n",
       "\n",
       "                                                  speaks     status  \n",
       "0                                                english     single  \n",
       "1  english (fluently), spanish (poorly), french (poorly)     single  \n",
       "2                                   english, french, c++  available  \n",
       "3                               english, german (poorly)     single  \n",
       "4                                                english     single  "
      ]
     },
     "execution_count": 5,
     "metadata": {},
     "output_type": "execute_result"
    }
   ],
   "source": [
    "# have a look at the first ten rows of data\n",
    "df.head()"
   ]
  },
  {
   "cell_type": "code",
   "execution_count": 6,
   "metadata": {},
   "outputs": [
    {
     "data": {
      "text/html": [
       "<div>\n",
       "<style scoped>\n",
       "    .dataframe tbody tr th:only-of-type {\n",
       "        vertical-align: middle;\n",
       "    }\n",
       "\n",
       "    .dataframe tbody tr th {\n",
       "        vertical-align: top;\n",
       "    }\n",
       "\n",
       "    .dataframe thead th {\n",
       "        text-align: right;\n",
       "    }\n",
       "</style>\n",
       "<table border=\"1\" class=\"dataframe\">\n",
       "  <thead>\n",
       "    <tr style=\"text-align: right;\">\n",
       "      <th></th>\n",
       "      <th>age</th>\n",
       "      <th>height</th>\n",
       "      <th>income</th>\n",
       "    </tr>\n",
       "  </thead>\n",
       "  <tbody>\n",
       "    <tr>\n",
       "      <th>count</th>\n",
       "      <td>59946.000000</td>\n",
       "      <td>59943.000000</td>\n",
       "      <td>59946.000000</td>\n",
       "    </tr>\n",
       "    <tr>\n",
       "      <th>mean</th>\n",
       "      <td>32.340290</td>\n",
       "      <td>68.295281</td>\n",
       "      <td>20033.222534</td>\n",
       "    </tr>\n",
       "    <tr>\n",
       "      <th>std</th>\n",
       "      <td>9.452779</td>\n",
       "      <td>3.994803</td>\n",
       "      <td>97346.192104</td>\n",
       "    </tr>\n",
       "    <tr>\n",
       "      <th>min</th>\n",
       "      <td>18.000000</td>\n",
       "      <td>1.000000</td>\n",
       "      <td>-1.000000</td>\n",
       "    </tr>\n",
       "    <tr>\n",
       "      <th>25%</th>\n",
       "      <td>26.000000</td>\n",
       "      <td>66.000000</td>\n",
       "      <td>-1.000000</td>\n",
       "    </tr>\n",
       "    <tr>\n",
       "      <th>50%</th>\n",
       "      <td>30.000000</td>\n",
       "      <td>68.000000</td>\n",
       "      <td>-1.000000</td>\n",
       "    </tr>\n",
       "    <tr>\n",
       "      <th>75%</th>\n",
       "      <td>37.000000</td>\n",
       "      <td>71.000000</td>\n",
       "      <td>-1.000000</td>\n",
       "    </tr>\n",
       "    <tr>\n",
       "      <th>max</th>\n",
       "      <td>110.000000</td>\n",
       "      <td>95.000000</td>\n",
       "      <td>1000000.000000</td>\n",
       "    </tr>\n",
       "  </tbody>\n",
       "</table>\n",
       "</div>"
      ],
      "text/plain": [
       "                age        height          income\n",
       "count  59946.000000  59943.000000    59946.000000\n",
       "mean      32.340290     68.295281    20033.222534\n",
       "std        9.452779      3.994803    97346.192104\n",
       "min       18.000000      1.000000       -1.000000\n",
       "25%       26.000000     66.000000       -1.000000\n",
       "50%       30.000000     68.000000       -1.000000\n",
       "75%       37.000000     71.000000       -1.000000\n",
       "max      110.000000     95.000000  1000000.000000"
      ]
     },
     "execution_count": 6,
     "metadata": {},
     "output_type": "execute_result"
    }
   ],
   "source": [
    "# create a dataframe with numeric features\n",
    "num_features = df.select_dtypes('number')\n",
    "\n",
    "# see descriptive statistics\n",
    "num_features.describe()"
   ]
  },
  {
   "cell_type": "markdown",
   "metadata": {},
   "source": [
    "OKCupid's member were between 18-110 years old. However, half of them aged between 26-37. The height (inches) ranged from 1 to 95 inches and income started from -1 to 1 million dollars. There was some anomalies as height should not be as low as 1 inch and income should not be negative values."
   ]
  },
  {
   "cell_type": "code",
   "execution_count": 7,
   "metadata": {},
   "outputs": [
    {
     "data": {
      "text/html": [
       "<div>\n",
       "<style scoped>\n",
       "    .dataframe tbody tr th:only-of-type {\n",
       "        vertical-align: middle;\n",
       "    }\n",
       "\n",
       "    .dataframe tbody tr th {\n",
       "        vertical-align: top;\n",
       "    }\n",
       "\n",
       "    .dataframe thead th {\n",
       "        text-align: right;\n",
       "    }\n",
       "</style>\n",
       "<table border=\"1\" class=\"dataframe\">\n",
       "  <thead>\n",
       "    <tr style=\"text-align: right;\">\n",
       "      <th></th>\n",
       "      <th>body_type</th>\n",
       "      <th>diet</th>\n",
       "      <th>drinks</th>\n",
       "      <th>drugs</th>\n",
       "      <th>education</th>\n",
       "      <th>essay0</th>\n",
       "      <th>essay1</th>\n",
       "      <th>essay2</th>\n",
       "      <th>essay3</th>\n",
       "      <th>essay4</th>\n",
       "      <th>essay5</th>\n",
       "      <th>essay6</th>\n",
       "      <th>essay7</th>\n",
       "      <th>essay8</th>\n",
       "      <th>essay9</th>\n",
       "      <th>ethnicity</th>\n",
       "      <th>job</th>\n",
       "      <th>last_online</th>\n",
       "      <th>location</th>\n",
       "      <th>offspring</th>\n",
       "      <th>orientation</th>\n",
       "      <th>pets</th>\n",
       "      <th>religion</th>\n",
       "      <th>sex</th>\n",
       "      <th>sign</th>\n",
       "      <th>smokes</th>\n",
       "      <th>speaks</th>\n",
       "      <th>status</th>\n",
       "    </tr>\n",
       "  </thead>\n",
       "  <tbody>\n",
       "    <tr>\n",
       "      <th>count</th>\n",
       "      <td>54650</td>\n",
       "      <td>35551</td>\n",
       "      <td>56961</td>\n",
       "      <td>45866</td>\n",
       "      <td>53318</td>\n",
       "      <td>54458</td>\n",
       "      <td>52374</td>\n",
       "      <td>50308</td>\n",
       "      <td>48470</td>\n",
       "      <td>49409</td>\n",
       "      <td>49096</td>\n",
       "      <td>46175</td>\n",
       "      <td>47495</td>\n",
       "      <td>40721</td>\n",
       "      <td>47343</td>\n",
       "      <td>54266</td>\n",
       "      <td>51748</td>\n",
       "      <td>59946</td>\n",
       "      <td>59946</td>\n",
       "      <td>24385</td>\n",
       "      <td>59946</td>\n",
       "      <td>40025</td>\n",
       "      <td>39720</td>\n",
       "      <td>59946</td>\n",
       "      <td>48890</td>\n",
       "      <td>54434</td>\n",
       "      <td>59896</td>\n",
       "      <td>59946</td>\n",
       "    </tr>\n",
       "    <tr>\n",
       "      <th>unique</th>\n",
       "      <td>12</td>\n",
       "      <td>18</td>\n",
       "      <td>6</td>\n",
       "      <td>3</td>\n",
       "      <td>32</td>\n",
       "      <td>54350</td>\n",
       "      <td>51516</td>\n",
       "      <td>48635</td>\n",
       "      <td>43533</td>\n",
       "      <td>49260</td>\n",
       "      <td>48963</td>\n",
       "      <td>43603</td>\n",
       "      <td>45554</td>\n",
       "      <td>39324</td>\n",
       "      <td>45443</td>\n",
       "      <td>217</td>\n",
       "      <td>21</td>\n",
       "      <td>30123</td>\n",
       "      <td>199</td>\n",
       "      <td>15</td>\n",
       "      <td>3</td>\n",
       "      <td>15</td>\n",
       "      <td>45</td>\n",
       "      <td>2</td>\n",
       "      <td>48</td>\n",
       "      <td>5</td>\n",
       "      <td>7647</td>\n",
       "      <td>5</td>\n",
       "    </tr>\n",
       "    <tr>\n",
       "      <th>top</th>\n",
       "      <td>average</td>\n",
       "      <td>mostly anything</td>\n",
       "      <td>socially</td>\n",
       "      <td>never</td>\n",
       "      <td>graduated from college/university</td>\n",
       "      <td>.</td>\n",
       "      <td>enjoying it.</td>\n",
       "      <td>listening</td>\n",
       "      <td>my smile</td>\n",
       "      <td>ask me</td>\n",
       "      <td>my family</td>\n",
       "      <td>my future</td>\n",
       "      <td>out with friends</td>\n",
       "      <td>ask me</td>\n",
       "      <td>you want to.</td>\n",
       "      <td>white</td>\n",
       "      <td>other</td>\n",
       "      <td>2012-06-29-22-56</td>\n",
       "      <td>san francisco, california</td>\n",
       "      <td>doesn&amp;rsquo;t have kids</td>\n",
       "      <td>straight</td>\n",
       "      <td>likes dogs and likes cats</td>\n",
       "      <td>agnosticism</td>\n",
       "      <td>m</td>\n",
       "      <td>gemini and it&amp;rsquo;s fun to think about</td>\n",
       "      <td>no</td>\n",
       "      <td>english</td>\n",
       "      <td>single</td>\n",
       "    </tr>\n",
       "    <tr>\n",
       "      <th>freq</th>\n",
       "      <td>14652</td>\n",
       "      <td>16585</td>\n",
       "      <td>41780</td>\n",
       "      <td>37724</td>\n",
       "      <td>23959</td>\n",
       "      <td>12</td>\n",
       "      <td>61</td>\n",
       "      <td>82</td>\n",
       "      <td>529</td>\n",
       "      <td>16</td>\n",
       "      <td>6</td>\n",
       "      <td>161</td>\n",
       "      <td>89</td>\n",
       "      <td>45</td>\n",
       "      <td>199</td>\n",
       "      <td>32831</td>\n",
       "      <td>7589</td>\n",
       "      <td>24</td>\n",
       "      <td>31064</td>\n",
       "      <td>7560</td>\n",
       "      <td>51606</td>\n",
       "      <td>14814</td>\n",
       "      <td>2724</td>\n",
       "      <td>35829</td>\n",
       "      <td>1782</td>\n",
       "      <td>43896</td>\n",
       "      <td>21828</td>\n",
       "      <td>55697</td>\n",
       "    </tr>\n",
       "  </tbody>\n",
       "</table>\n",
       "</div>"
      ],
      "text/plain": [
       "       body_type             diet    drinks  drugs  \\\n",
       "count      54650            35551     56961  45866   \n",
       "unique        12               18         6      3   \n",
       "top      average  mostly anything  socially  never   \n",
       "freq       14652            16585     41780  37724   \n",
       "\n",
       "                                education essay0        essay1     essay2  \\\n",
       "count                               53318  54458         52374      50308   \n",
       "unique                                 32  54350         51516      48635   \n",
       "top     graduated from college/university      .  enjoying it.  listening   \n",
       "freq                                23959     12            61         82   \n",
       "\n",
       "          essay3  essay4     essay5     essay6            essay7  essay8  \\\n",
       "count      48470   49409      49096      46175             47495   40721   \n",
       "unique     43533   49260      48963      43603             45554   39324   \n",
       "top     my smile  ask me  my family  my future  out with friends  ask me   \n",
       "freq         529      16          6        161                89      45   \n",
       "\n",
       "              essay9 ethnicity    job       last_online  \\\n",
       "count          47343     54266  51748             59946   \n",
       "unique         45443       217     21             30123   \n",
       "top     you want to.     white  other  2012-06-29-22-56   \n",
       "freq             199     32831   7589                24   \n",
       "\n",
       "                         location                offspring orientation  \\\n",
       "count                       59946                    24385       59946   \n",
       "unique                        199                       15           3   \n",
       "top     san francisco, california  doesn&rsquo;t have kids    straight   \n",
       "freq                        31064                     7560       51606   \n",
       "\n",
       "                             pets     religion    sex  \\\n",
       "count                       40025        39720  59946   \n",
       "unique                         15           45      2   \n",
       "top     likes dogs and likes cats  agnosticism      m   \n",
       "freq                        14814         2724  35829   \n",
       "\n",
       "                                            sign smokes   speaks  status  \n",
       "count                                      48890  54434    59896   59946  \n",
       "unique                                        48      5     7647       5  \n",
       "top     gemini and it&rsquo;s fun to think about     no  english  single  \n",
       "freq                                        1782  43896    21828   55697  "
      ]
     },
     "execution_count": 7,
     "metadata": {},
     "output_type": "execute_result"
    }
   ],
   "source": [
    "# create a dataframe with non-numeric columns\n",
    "cat_features = df.select_dtypes('object')\n",
    "cat_features.describe()"
   ]
  },
  {
   "cell_type": "code",
   "execution_count": 8,
   "metadata": {
    "scrolled": true
   },
   "outputs": [
    {
     "data": {
      "text/plain": [
       "age                0\n",
       "body_type       5296\n",
       "diet           24395\n",
       "drinks          2985\n",
       "drugs          14080\n",
       "education       6628\n",
       "essay0          5488\n",
       "essay1          7572\n",
       "essay2          9638\n",
       "essay3         11476\n",
       "essay4         10537\n",
       "essay5         10850\n",
       "essay6         13771\n",
       "essay7         12451\n",
       "essay8         19225\n",
       "essay9         12603\n",
       "ethnicity       5680\n",
       "height             3\n",
       "income             0\n",
       "job             8198\n",
       "last_online        0\n",
       "location           0\n",
       "offspring      35561\n",
       "orientation        0\n",
       "pets           19921\n",
       "religion       20226\n",
       "sex                0\n",
       "sign           11056\n",
       "smokes          5512\n",
       "speaks            50\n",
       "status             0\n",
       "dtype: int64"
      ]
     },
     "execution_count": 8,
     "metadata": {},
     "output_type": "execute_result"
    }
   ],
   "source": [
    "# to check the number of missing values in each column\n",
    "df.isna().sum()"
   ]
  },
  {
   "cell_type": "markdown",
   "metadata": {},
   "source": [
    "## Age"
   ]
  },
  {
   "cell_type": "code",
   "execution_count": 9,
   "metadata": {},
   "outputs": [
    {
     "data": {
      "image/png": "[encoded data removed]",
      "text/plain": [
       "<Figure size 576x432 with 1 Axes>"
      ]
     },
     "metadata": {
      "needs_background": "light"
     },
     "output_type": "display_data"
    }
   ],
   "source": [
    "# find the mean of ages\n",
    "avg_age = np.mean(df.age)\n",
    "\n",
    "# create a historam of ages\n",
    "sns.histplot(data =df, x='age', color='mediumslateblue', binwidth=5, edgecolor='white')\n",
    "plt.axvline(avg_age, color ='red', label='Average Age = ' + str(round(avg_age,2)))\n",
    "plt.title(\"Age Distribution\", fontsize='x-large', pad=10)\n",
    "plt.xticks(range(10,120,10))\n",
    "plt.legend()\n",
    "plt.show()"
   ]
  },
  {
   "cell_type": "markdown",
   "metadata": {},
   "source": [
    "The average age of users is around 32 years old. The outliers are above 70 years old."
   ]
  },
  {
   "cell_type": "code",
   "execution_count": 10,
   "metadata": {},
   "outputs": [
    {
     "data": {
      "image/png": "[encoded data removed]",
      "text/plain": [
       "<Figure size 576x432 with 1 Axes>"
      ]
     },
     "metadata": {
      "needs_background": "light"
     },
     "output_type": "display_data"
    }
   ],
   "source": [
    "sns.histplot(data =df, x='age', hue='sex', element='step', binwidth=5, hue_order=['m', 'f'], palette=['cornflowerblue', 'hotpink'])\n",
    "plt.title(\"Age Distribution\", fontsize='x-large', pad=10)\n",
    "plt.xticks(range(10,120,10))\n",
    "plt.show()"
   ]
  },
  {
   "cell_type": "markdown",
   "metadata": {},
   "source": [
    "Male users and female users had similar distribution. The majorities of both sexes ranged from 18 to just over 70 years old.  However, the difference is that there was a smaller number of female users than male users."
   ]
  },
  {
   "cell_type": "markdown",
   "metadata": {},
   "source": [
    "## Income\n"
   ]
  },
  {
   "cell_type": "code",
   "execution_count": 11,
   "metadata": {},
   "outputs": [
    {
     "data": {
      "text/plain": [
       "-1          48442\n",
       " 20000       2952\n",
       " 100000      1621\n",
       " 80000       1111\n",
       " 30000       1048\n",
       " 40000       1005\n",
       " 50000        975\n",
       " 60000        736\n",
       " 70000        707\n",
       " 150000       631\n",
       " 1000000      521\n",
       " 250000       149\n",
       " 500000        48\n",
       "Name: income, dtype: int64"
      ]
     },
     "execution_count": 11,
     "metadata": {},
     "output_type": "execute_result"
    }
   ],
   "source": [
    "# to count each value in the column 'income'\n",
    "df.income.value_counts()"
   ]
  },
  {
   "cell_type": "code",
   "execution_count": 12,
   "metadata": {},
   "outputs": [
    {
     "data": {
      "image/png": "[encoded data removed]",
      "text/plain": [
       "<Figure size 576x432 with 1 Axes>"
      ]
     },
     "metadata": {
      "needs_background": "light"
     },
     "output_type": "display_data"
    }
   ],
   "source": [
    "sns.histplot(data =df, x='income', color='mediumslateblue', edgecolor='white')\n",
    "plt.title(\"Income Distribution\", fontsize='x-large', pad=10)\n",
    "plt.show()"
   ]
  },
  {
   "cell_type": "markdown",
   "metadata": {},
   "source": [
    "Regarding values counts, most users did not provide their income."
   ]
  },
  {
   "cell_type": "markdown",
   "metadata": {},
   "source": [
    "# Nominal Categorical Data\n"
   ]
  },
  {
   "cell_type": "markdown",
   "metadata": {},
   "source": [
    "## Body Type"
   ]
  },
  {
   "cell_type": "code",
   "execution_count": 13,
   "metadata": {},
   "outputs": [
    {
     "data": {
      "image/png": "[encoded data removed]",
      "text/plain": [
       "<Figure size 576x432 with 1 Axes>"
      ]
     },
     "metadata": {
      "needs_background": "light"
     },
     "output_type": "display_data"
    }
   ],
   "source": [
    "sns.countplot(data = df, y = 'body_type', palette = 'Set2')\n",
    "plt.title(\"Body Type\", pad=10)\n",
    "plt.ylabel(\"Body Type\")\n",
    "plt.show()"
   ]
  },
  {
   "cell_type": "markdown",
   "metadata": {},
   "source": [
    "## Diet"
   ]
  },
  {
   "cell_type": "code",
   "execution_count": 14,
   "metadata": {},
   "outputs": [
    {
     "data": {
      "image/png": "[encoded data removed]",
      "text/plain": [
       "<Figure size 576x432 with 1 Axes>"
      ]
     },
     "metadata": {
      "needs_background": "light"
     },
     "output_type": "display_data"
    }
   ],
   "source": [
    "sns.countplot(data = df, y = 'diet', palette = 'Set2')\n",
    "plt.title(\"Diet\", pad=10)\n",
    "plt.show()"
   ]
  },
  {
   "cell_type": "markdown",
   "metadata": {},
   "source": [
    "## Drinks"
   ]
  },
  {
   "cell_type": "code",
   "execution_count": 15,
   "metadata": {},
   "outputs": [
    {
     "data": {
      "image/png": "[encoded data removed]",
      "text/plain": [
       "<Figure size 576x432 with 1 Axes>"
      ]
     },
     "metadata": {
      "needs_background": "light"
     },
     "output_type": "display_data"
    }
   ],
   "source": [
    "sns.countplot(data = df, y = 'drinks', palette = 'Set2')\n",
    "plt.title(\"Drinks\", pad=10)\n",
    "plt.show()"
   ]
  },
  {
   "cell_type": "markdown",
   "metadata": {},
   "source": [
    "## Drugs"
   ]
  },
  {
   "cell_type": "code",
   "execution_count": 16,
   "metadata": {},
   "outputs": [
    {
     "data": {
      "image/png": "[encoded data removed]",
      "text/plain": [
       "<Figure size 576x432 with 1 Axes>"
      ]
     },
     "metadata": {
      "needs_background": "light"
     },
     "output_type": "display_data"
    }
   ],
   "source": [
    "fig, ax = plt.subplots()\n",
    "ax = sns.countplot(data = df, y = 'drugs', palette = 'Set2')\n",
    "labels = [item.get_text() for item in ax.get_yticklabels()]\n",
    "ax.set_title(\"Drug\", pad=10)\n",
    "ax.set_yticks(range(len(labels)))\n",
    "ax.set_yticklabels(labels, fontsize=10)\n",
    "plt.show()"
   ]
  },
  {
   "cell_type": "markdown",
   "metadata": {},
   "source": [
    "## Education"
   ]
  },
  {
   "cell_type": "code",
   "execution_count": 17,
   "metadata": {},
   "outputs": [
    {
     "data": {
      "text/plain": [
       "32"
      ]
     },
     "execution_count": 17,
     "metadata": {},
     "output_type": "execute_result"
    }
   ],
   "source": [
    "# check a number of unique education\n",
    "df.education.nunique()"
   ]
  },
  {
   "cell_type": "code",
   "execution_count": 18,
   "metadata": {},
   "outputs": [
    {
     "data": {
      "image/png": "[encoded data removed]",
      "text/plain": [
       "<Figure size 576x432 with 1 Axes>"
      ]
     },
     "metadata": {
      "needs_background": "light"
     },
     "output_type": "display_data"
    }
   ],
   "source": [
    "fig, ax = plt.subplots()\n",
    "ax = sns.countplot(data = df, y = 'education', palette = 'Set2')\n",
    "labels = [item.get_text() for item in ax.get_yticklabels()]\n",
    "ax.set_title(\"Education\", pad=10)\n",
    "ax.set_yticks(range(len(labels)))\n",
    "ax.set_yticklabels(labels, fontsize=10)\n",
    "plt.show()"
   ]
  },
  {
   "cell_type": "markdown",
   "metadata": {},
   "source": [
    "## Ethnicity"
   ]
  },
  {
   "cell_type": "code",
   "execution_count": 19,
   "metadata": {},
   "outputs": [
    {
     "data": {
      "text/html": [
       "<div>\n",
       "<style scoped>\n",
       "    .dataframe tbody tr th:only-of-type {\n",
       "        vertical-align: middle;\n",
       "    }\n",
       "\n",
       "    .dataframe tbody tr th {\n",
       "        vertical-align: top;\n",
       "    }\n",
       "\n",
       "    .dataframe thead th {\n",
       "        text-align: right;\n",
       "    }\n",
       "</style>\n",
       "<table border=\"1\" class=\"dataframe\">\n",
       "  <thead>\n",
       "    <tr style=\"text-align: right;\">\n",
       "      <th></th>\n",
       "      <th>ethnicity</th>\n",
       "      <th>counts</th>\n",
       "    </tr>\n",
       "  </thead>\n",
       "  <tbody>\n",
       "    <tr>\n",
       "      <th>0</th>\n",
       "      <td>white</td>\n",
       "      <td>32831</td>\n",
       "    </tr>\n",
       "    <tr>\n",
       "      <th>1</th>\n",
       "      <td>asian</td>\n",
       "      <td>6134</td>\n",
       "    </tr>\n",
       "    <tr>\n",
       "      <th>2</th>\n",
       "      <td>hispanic / latin</td>\n",
       "      <td>2823</td>\n",
       "    </tr>\n",
       "    <tr>\n",
       "      <th>3</th>\n",
       "      <td>black</td>\n",
       "      <td>2008</td>\n",
       "    </tr>\n",
       "    <tr>\n",
       "      <th>4</th>\n",
       "      <td>other</td>\n",
       "      <td>1706</td>\n",
       "    </tr>\n",
       "    <tr>\n",
       "      <th>5</th>\n",
       "      <td>hispanic / latin, white</td>\n",
       "      <td>1301</td>\n",
       "    </tr>\n",
       "    <tr>\n",
       "      <th>6</th>\n",
       "      <td>indian</td>\n",
       "      <td>1077</td>\n",
       "    </tr>\n",
       "    <tr>\n",
       "      <th>7</th>\n",
       "      <td>asian, white</td>\n",
       "      <td>811</td>\n",
       "    </tr>\n",
       "    <tr>\n",
       "      <th>8</th>\n",
       "      <td>white, other</td>\n",
       "      <td>641</td>\n",
       "    </tr>\n",
       "    <tr>\n",
       "      <th>9</th>\n",
       "      <td>pacific islander</td>\n",
       "      <td>432</td>\n",
       "    </tr>\n",
       "    <tr>\n",
       "      <th>10</th>\n",
       "      <td>asian, pacific islander</td>\n",
       "      <td>395</td>\n",
       "    </tr>\n",
       "    <tr>\n",
       "      <th>11</th>\n",
       "      <td>native american, white</td>\n",
       "      <td>338</td>\n",
       "    </tr>\n",
       "    <tr>\n",
       "      <th>12</th>\n",
       "      <td>middle eastern</td>\n",
       "      <td>329</td>\n",
       "    </tr>\n",
       "    <tr>\n",
       "      <th>13</th>\n",
       "      <td>middle eastern, white</td>\n",
       "      <td>300</td>\n",
       "    </tr>\n",
       "    <tr>\n",
       "      <th>14</th>\n",
       "      <td>black, white</td>\n",
       "      <td>298</td>\n",
       "    </tr>\n",
       "    <tr>\n",
       "      <th>15</th>\n",
       "      <td>pacific islander, white</td>\n",
       "      <td>156</td>\n",
       "    </tr>\n",
       "    <tr>\n",
       "      <th>16</th>\n",
       "      <td>hispanic / latin, other</td>\n",
       "      <td>138</td>\n",
       "    </tr>\n",
       "    <tr>\n",
       "      <th>17</th>\n",
       "      <td>black, other</td>\n",
       "      <td>133</td>\n",
       "    </tr>\n",
       "    <tr>\n",
       "      <th>18</th>\n",
       "      <td>black, hispanic / latin</td>\n",
       "      <td>119</td>\n",
       "    </tr>\n",
       "    <tr>\n",
       "      <th>19</th>\n",
       "      <td>hispanic / latin, white, other</td>\n",
       "      <td>117</td>\n",
       "    </tr>\n",
       "    <tr>\n",
       "      <th>20</th>\n",
       "      <td>black, native american, white</td>\n",
       "      <td>110</td>\n",
       "    </tr>\n",
       "    <tr>\n",
       "      <th>21</th>\n",
       "      <td>black, native american</td>\n",
       "      <td>100</td>\n",
       "    </tr>\n",
       "    <tr>\n",
       "      <th>22</th>\n",
       "      <td>asian, other</td>\n",
       "      <td>95</td>\n",
       "    </tr>\n",
       "    <tr>\n",
       "      <th>23</th>\n",
       "      <td>asian, hispanic / latin</td>\n",
       "      <td>88</td>\n",
       "    </tr>\n",
       "    <tr>\n",
       "      <th>24</th>\n",
       "      <td>native american, hispanic / latin, white</td>\n",
       "      <td>87</td>\n",
       "    </tr>\n",
       "    <tr>\n",
       "      <th>25</th>\n",
       "      <td>native american, hispanic / latin</td>\n",
       "      <td>73</td>\n",
       "    </tr>\n",
       "    <tr>\n",
       "      <th>26</th>\n",
       "      <td>asian, white, other</td>\n",
       "      <td>69</td>\n",
       "    </tr>\n",
       "    <tr>\n",
       "      <th>27</th>\n",
       "      <td>native american</td>\n",
       "      <td>67</td>\n",
       "    </tr>\n",
       "    <tr>\n",
       "      <th>28</th>\n",
       "      <td>asian, middle eastern, black, native american, indian, pacific islander, hispanic / latin, white, other</td>\n",
       "      <td>66</td>\n",
       "    </tr>\n",
       "    <tr>\n",
       "      <th>29</th>\n",
       "      <td>asian, black</td>\n",
       "      <td>59</td>\n",
       "    </tr>\n",
       "    <tr>\n",
       "      <th>30</th>\n",
       "      <td>pacific islander, hispanic / latin</td>\n",
       "      <td>57</td>\n",
       "    </tr>\n",
       "    <tr>\n",
       "      <th>31</th>\n",
       "      <td>asian, pacific islander, white</td>\n",
       "      <td>55</td>\n",
       "    </tr>\n",
       "    <tr>\n",
       "      <th>32</th>\n",
       "      <td>native american, white, other</td>\n",
       "      <td>54</td>\n",
       "    </tr>\n",
       "    <tr>\n",
       "      <th>33</th>\n",
       "      <td>asian, indian</td>\n",
       "      <td>52</td>\n",
       "    </tr>\n",
       "    <tr>\n",
       "      <th>34</th>\n",
       "      <td>black, white, other</td>\n",
       "      <td>49</td>\n",
       "    </tr>\n",
       "    <tr>\n",
       "      <th>35</th>\n",
       "      <td>indian, white</td>\n",
       "      <td>46</td>\n",
       "    </tr>\n",
       "    <tr>\n",
       "      <th>36</th>\n",
       "      <td>asian, hispanic / latin, white</td>\n",
       "      <td>42</td>\n",
       "    </tr>\n",
       "    <tr>\n",
       "      <th>37</th>\n",
       "      <td>middle eastern, white, other</td>\n",
       "      <td>40</td>\n",
       "    </tr>\n",
       "    <tr>\n",
       "      <th>38</th>\n",
       "      <td>middle eastern, hispanic / latin</td>\n",
       "      <td>39</td>\n",
       "    </tr>\n",
       "    <tr>\n",
       "      <th>39</th>\n",
       "      <td>asian, pacific islander, other</td>\n",
       "      <td>38</td>\n",
       "    </tr>\n",
       "    <tr>\n",
       "      <th>40</th>\n",
       "      <td>black, hispanic / latin, white</td>\n",
       "      <td>36</td>\n",
       "    </tr>\n",
       "    <tr>\n",
       "      <th>41</th>\n",
       "      <td>native american, hispanic / latin, white, other</td>\n",
       "      <td>33</td>\n",
       "    </tr>\n",
       "    <tr>\n",
       "      <th>42</th>\n",
       "      <td>pacific islander, hispanic / latin, white</td>\n",
       "      <td>30</td>\n",
       "    </tr>\n",
       "    <tr>\n",
       "      <th>43</th>\n",
       "      <td>indian, other</td>\n",
       "      <td>30</td>\n",
       "    </tr>\n",
       "    <tr>\n",
       "      <th>44</th>\n",
       "      <td>black, native american, white, other</td>\n",
       "      <td>29</td>\n",
       "    </tr>\n",
       "    <tr>\n",
       "      <th>45</th>\n",
       "      <td>black, native american, other</td>\n",
       "      <td>27</td>\n",
       "    </tr>\n",
       "    <tr>\n",
       "      <th>46</th>\n",
       "      <td>black, native american, hispanic / latin, white</td>\n",
       "      <td>26</td>\n",
       "    </tr>\n",
       "    <tr>\n",
       "      <th>47</th>\n",
       "      <td>middle eastern, other</td>\n",
       "      <td>23</td>\n",
       "    </tr>\n",
       "    <tr>\n",
       "      <th>48</th>\n",
       "      <td>black, native american, hispanic / latin</td>\n",
       "      <td>19</td>\n",
       "    </tr>\n",
       "    <tr>\n",
       "      <th>49</th>\n",
       "      <td>asian, native american, white</td>\n",
       "      <td>18</td>\n",
       "    </tr>\n",
       "    <tr>\n",
       "      <th>50</th>\n",
       "      <td>pacific islander, white, other</td>\n",
       "      <td>18</td>\n",
       "    </tr>\n",
       "    <tr>\n",
       "      <th>51</th>\n",
       "      <td>black, indian</td>\n",
       "      <td>17</td>\n",
       "    </tr>\n",
       "    <tr>\n",
       "      <th>52</th>\n",
       "      <td>native american, other</td>\n",
       "      <td>16</td>\n",
       "    </tr>\n",
       "    <tr>\n",
       "      <th>53</th>\n",
       "      <td>asian, black, white</td>\n",
       "      <td>15</td>\n",
       "    </tr>\n",
       "    <tr>\n",
       "      <th>54</th>\n",
       "      <td>black, pacific islander</td>\n",
       "      <td>15</td>\n",
       "    </tr>\n",
       "    <tr>\n",
       "      <th>55</th>\n",
       "      <td>indian, white, other</td>\n",
       "      <td>14</td>\n",
       "    </tr>\n",
       "    <tr>\n",
       "      <th>56</th>\n",
       "      <td>pacific islander, other</td>\n",
       "      <td>14</td>\n",
       "    </tr>\n",
       "    <tr>\n",
       "      <th>57</th>\n",
       "      <td>native american, hispanic / latin, other</td>\n",
       "      <td>13</td>\n",
       "    </tr>\n",
       "    <tr>\n",
       "      <th>58</th>\n",
       "      <td>asian, pacific islander, hispanic / latin</td>\n",
       "      <td>13</td>\n",
       "    </tr>\n",
       "    <tr>\n",
       "      <th>59</th>\n",
       "      <td>black, hispanic / latin, other</td>\n",
       "      <td>13</td>\n",
       "    </tr>\n",
       "    <tr>\n",
       "      <th>60</th>\n",
       "      <td>indian, pacific islander</td>\n",
       "      <td>12</td>\n",
       "    </tr>\n",
       "    <tr>\n",
       "      <th>61</th>\n",
       "      <td>middle eastern, hispanic / latin, white</td>\n",
       "      <td>12</td>\n",
       "    </tr>\n",
       "    <tr>\n",
       "      <th>62</th>\n",
       "      <td>asian, middle eastern</td>\n",
       "      <td>12</td>\n",
       "    </tr>\n",
       "    <tr>\n",
       "      <th>63</th>\n",
       "      <td>asian, pacific islander, hispanic / latin, white</td>\n",
       "      <td>11</td>\n",
       "    </tr>\n",
       "    <tr>\n",
       "      <th>64</th>\n",
       "      <td>middle eastern, indian</td>\n",
       "      <td>11</td>\n",
       "    </tr>\n",
       "    <tr>\n",
       "      <th>65</th>\n",
       "      <td>asian, pacific islander, white, other</td>\n",
       "      <td>10</td>\n",
       "    </tr>\n",
       "    <tr>\n",
       "      <th>66</th>\n",
       "      <td>black, native american, hispanic / latin, white, other</td>\n",
       "      <td>10</td>\n",
       "    </tr>\n",
       "    <tr>\n",
       "      <th>67</th>\n",
       "      <td>asian, hispanic / latin, white, other</td>\n",
       "      <td>9</td>\n",
       "    </tr>\n",
       "    <tr>\n",
       "      <th>68</th>\n",
       "      <td>asian, middle eastern, black, native american, indian, pacific islander, hispanic / latin, white</td>\n",
       "      <td>9</td>\n",
       "    </tr>\n",
       "    <tr>\n",
       "      <th>69</th>\n",
       "      <td>asian, black, native american</td>\n",
       "      <td>9</td>\n",
       "    </tr>\n",
       "    <tr>\n",
       "      <th>70</th>\n",
       "      <td>asian, hispanic / latin, other</td>\n",
       "      <td>9</td>\n",
       "    </tr>\n",
       "    <tr>\n",
       "      <th>71</th>\n",
       "      <td>asian, middle eastern, white</td>\n",
       "      <td>9</td>\n",
       "    </tr>\n",
       "    <tr>\n",
       "      <th>72</th>\n",
       "      <td>asian, black, other</td>\n",
       "      <td>9</td>\n",
       "    </tr>\n",
       "    <tr>\n",
       "      <th>73</th>\n",
       "      <td>middle eastern, native american, white</td>\n",
       "      <td>8</td>\n",
       "    </tr>\n",
       "    <tr>\n",
       "      <th>74</th>\n",
       "      <td>asian, black, native american, white</td>\n",
       "      <td>8</td>\n",
       "    </tr>\n",
       "    <tr>\n",
       "      <th>75</th>\n",
       "      <td>indian, hispanic / latin</td>\n",
       "      <td>8</td>\n",
       "    </tr>\n",
       "    <tr>\n",
       "      <th>76</th>\n",
       "      <td>asian, native american, hispanic / latin, white</td>\n",
       "      <td>7</td>\n",
       "    </tr>\n",
       "    <tr>\n",
       "      <th>77</th>\n",
       "      <td>native american, pacific islander, white</td>\n",
       "      <td>7</td>\n",
       "    </tr>\n",
       "    <tr>\n",
       "      <th>78</th>\n",
       "      <td>asian, middle eastern, white, other</td>\n",
       "      <td>6</td>\n",
       "    </tr>\n",
       "    <tr>\n",
       "      <th>79</th>\n",
       "      <td>asian, black, pacific islander</td>\n",
       "      <td>6</td>\n",
       "    </tr>\n",
       "    <tr>\n",
       "      <th>80</th>\n",
       "      <td>black, indian, white</td>\n",
       "      <td>6</td>\n",
       "    </tr>\n",
       "    <tr>\n",
       "      <th>81</th>\n",
       "      <td>middle eastern, black</td>\n",
       "      <td>6</td>\n",
       "    </tr>\n",
       "    <tr>\n",
       "      <th>82</th>\n",
       "      <td>asian, indian, pacific islander</td>\n",
       "      <td>6</td>\n",
       "    </tr>\n",
       "    <tr>\n",
       "      <th>83</th>\n",
       "      <td>black, native american, hispanic / latin, other</td>\n",
       "      <td>5</td>\n",
       "    </tr>\n",
       "    <tr>\n",
       "      <th>84</th>\n",
       "      <td>native american, pacific islander, hispanic / latin, white</td>\n",
       "      <td>5</td>\n",
       "    </tr>\n",
       "    <tr>\n",
       "      <th>85</th>\n",
       "      <td>asian, native american, white, other</td>\n",
       "      <td>5</td>\n",
       "    </tr>\n",
       "    <tr>\n",
       "      <th>86</th>\n",
       "      <td>asian, pacific islander, hispanic / latin, white, other</td>\n",
       "      <td>5</td>\n",
       "    </tr>\n",
       "    <tr>\n",
       "      <th>87</th>\n",
       "      <td>pacific islander, hispanic / latin, other</td>\n",
       "      <td>5</td>\n",
       "    </tr>\n",
       "    <tr>\n",
       "      <th>88</th>\n",
       "      <td>asian, native american, hispanic / latin</td>\n",
       "      <td>5</td>\n",
       "    </tr>\n",
       "    <tr>\n",
       "      <th>89</th>\n",
       "      <td>asian, indian, white</td>\n",
       "      <td>5</td>\n",
       "    </tr>\n",
       "    <tr>\n",
       "      <th>90</th>\n",
       "      <td>pacific islander, hispanic / latin, white, other</td>\n",
       "      <td>5</td>\n",
       "    </tr>\n",
       "    <tr>\n",
       "      <th>91</th>\n",
       "      <td>black, pacific islander, hispanic / latin</td>\n",
       "      <td>5</td>\n",
       "    </tr>\n",
       "    <tr>\n",
       "      <th>92</th>\n",
       "      <td>native american, pacific islander, hispanic / latin</td>\n",
       "      <td>5</td>\n",
       "    </tr>\n",
       "    <tr>\n",
       "      <th>93</th>\n",
       "      <td>black, hispanic / latin, white, other</td>\n",
       "      <td>5</td>\n",
       "    </tr>\n",
       "    <tr>\n",
       "      <th>94</th>\n",
       "      <td>asian, middle eastern, indian</td>\n",
       "      <td>5</td>\n",
       "    </tr>\n",
       "    <tr>\n",
       "      <th>95</th>\n",
       "      <td>asian, indian, other</td>\n",
       "      <td>5</td>\n",
       "    </tr>\n",
       "    <tr>\n",
       "      <th>96</th>\n",
       "      <td>black, indian, white, other</td>\n",
       "      <td>4</td>\n",
       "    </tr>\n",
       "    <tr>\n",
       "      <th>97</th>\n",
       "      <td>middle eastern, indian, other</td>\n",
       "      <td>4</td>\n",
       "    </tr>\n",
       "    <tr>\n",
       "      <th>98</th>\n",
       "      <td>asian, native american, pacific islander, hispanic / latin, white</td>\n",
       "      <td>4</td>\n",
       "    </tr>\n",
       "    <tr>\n",
       "      <th>99</th>\n",
       "      <td>asian, native american, hispanic / latin, white, other</td>\n",
       "      <td>4</td>\n",
       "    </tr>\n",
       "    <tr>\n",
       "      <th>100</th>\n",
       "      <td>black, pacific islander, other</td>\n",
       "      <td>4</td>\n",
       "    </tr>\n",
       "    <tr>\n",
       "      <th>101</th>\n",
       "      <td>black, pacific islander, white</td>\n",
       "      <td>4</td>\n",
       "    </tr>\n",
       "    <tr>\n",
       "      <th>102</th>\n",
       "      <td>indian, hispanic / latin, other</td>\n",
       "      <td>4</td>\n",
       "    </tr>\n",
       "    <tr>\n",
       "      <th>103</th>\n",
       "      <td>asian, black, pacific islander, hispanic / latin</td>\n",
       "      <td>4</td>\n",
       "    </tr>\n",
       "    <tr>\n",
       "      <th>104</th>\n",
       "      <td>middle eastern, hispanic / latin, other</td>\n",
       "      <td>4</td>\n",
       "    </tr>\n",
       "    <tr>\n",
       "      <th>105</th>\n",
       "      <td>native american, pacific islander, hispanic / latin, white, other</td>\n",
       "      <td>3</td>\n",
       "    </tr>\n",
       "    <tr>\n",
       "      <th>106</th>\n",
       "      <td>black, native american, indian, other</td>\n",
       "      <td>3</td>\n",
       "    </tr>\n",
       "    <tr>\n",
       "      <th>107</th>\n",
       "      <td>middle eastern, native american, hispanic / latin</td>\n",
       "      <td>3</td>\n",
       "    </tr>\n",
       "    <tr>\n",
       "      <th>108</th>\n",
       "      <td>middle eastern, pacific islander, other</td>\n",
       "      <td>3</td>\n",
       "    </tr>\n",
       "    <tr>\n",
       "      <th>109</th>\n",
       "      <td>black, indian, other</td>\n",
       "      <td>3</td>\n",
       "    </tr>\n",
       "    <tr>\n",
       "      <th>110</th>\n",
       "      <td>asian, native american</td>\n",
       "      <td>3</td>\n",
       "    </tr>\n",
       "    <tr>\n",
       "      <th>111</th>\n",
       "      <td>asian, middle eastern, indian, other</td>\n",
       "      <td>3</td>\n",
       "    </tr>\n",
       "    <tr>\n",
       "      <th>112</th>\n",
       "      <td>asian, black, native american, pacific islander, white</td>\n",
       "      <td>3</td>\n",
       "    </tr>\n",
       "    <tr>\n",
       "      <th>113</th>\n",
       "      <td>asian, indian, pacific islander, other</td>\n",
       "      <td>3</td>\n",
       "    </tr>\n",
       "    <tr>\n",
       "      <th>114</th>\n",
       "      <td>black, indian, hispanic / latin</td>\n",
       "      <td>3</td>\n",
       "    </tr>\n",
       "    <tr>\n",
       "      <th>115</th>\n",
       "      <td>middle eastern, black, white</td>\n",
       "      <td>2</td>\n",
       "    </tr>\n",
       "    <tr>\n",
       "      <th>116</th>\n",
       "      <td>middle eastern, indian, white, other</td>\n",
       "      <td>2</td>\n",
       "    </tr>\n",
       "    <tr>\n",
       "      <th>117</th>\n",
       "      <td>asian, middle eastern, black, native american, pacific islander, hispanic / latin, white, other</td>\n",
       "      <td>2</td>\n",
       "    </tr>\n",
       "    <tr>\n",
       "      <th>118</th>\n",
       "      <td>middle eastern, hispanic / latin, white, other</td>\n",
       "      <td>2</td>\n",
       "    </tr>\n",
       "    <tr>\n",
       "      <th>119</th>\n",
       "      <td>asian, middle eastern, black, pacific islander, hispanic / latin, white</td>\n",
       "      <td>2</td>\n",
       "    </tr>\n",
       "    <tr>\n",
       "      <th>120</th>\n",
       "      <td>black, indian, hispanic / latin, white</td>\n",
       "      <td>2</td>\n",
       "    </tr>\n",
       "    <tr>\n",
       "      <th>121</th>\n",
       "      <td>middle eastern, black, native american, white</td>\n",
       "      <td>2</td>\n",
       "    </tr>\n",
       "    <tr>\n",
       "      <th>122</th>\n",
       "      <td>middle eastern, native american, hispanic / latin, white</td>\n",
       "      <td>2</td>\n",
       "    </tr>\n",
       "    <tr>\n",
       "      <th>123</th>\n",
       "      <td>asian, middle eastern, hispanic / latin, white</td>\n",
       "      <td>2</td>\n",
       "    </tr>\n",
       "    <tr>\n",
       "      <th>124</th>\n",
       "      <td>indian, hispanic / latin, white, other</td>\n",
       "      <td>2</td>\n",
       "    </tr>\n",
       "    <tr>\n",
       "      <th>125</th>\n",
       "      <td>indian, hispanic / latin, white</td>\n",
       "      <td>2</td>\n",
       "    </tr>\n",
       "    <tr>\n",
       "      <th>126</th>\n",
       "      <td>asian, middle eastern, black, native american, indian, pacific islander, hispanic / latin, other</td>\n",
       "      <td>2</td>\n",
       "    </tr>\n",
       "    <tr>\n",
       "      <th>127</th>\n",
       "      <td>asian, middle eastern, black, indian, pacific islander, hispanic / latin, white</td>\n",
       "      <td>2</td>\n",
       "    </tr>\n",
       "    <tr>\n",
       "      <th>128</th>\n",
       "      <td>middle eastern, native american, hispanic / latin, white, other</td>\n",
       "      <td>2</td>\n",
       "    </tr>\n",
       "    <tr>\n",
       "      <th>129</th>\n",
       "      <td>asian, middle eastern, native american, indian, pacific islander, hispanic / latin, white</td>\n",
       "      <td>2</td>\n",
       "    </tr>\n",
       "    <tr>\n",
       "      <th>130</th>\n",
       "      <td>asian, middle eastern, black</td>\n",
       "      <td>2</td>\n",
       "    </tr>\n",
       "    <tr>\n",
       "      <th>131</th>\n",
       "      <td>asian, indian, white, other</td>\n",
       "      <td>2</td>\n",
       "    </tr>\n",
       "    <tr>\n",
       "      <th>132</th>\n",
       "      <td>asian, indian, hispanic / latin</td>\n",
       "      <td>2</td>\n",
       "    </tr>\n",
       "    <tr>\n",
       "      <th>133</th>\n",
       "      <td>native american, indian</td>\n",
       "      <td>2</td>\n",
       "    </tr>\n",
       "    <tr>\n",
       "      <th>134</th>\n",
       "      <td>native american, pacific islander</td>\n",
       "      <td>2</td>\n",
       "    </tr>\n",
       "    <tr>\n",
       "      <th>135</th>\n",
       "      <td>asian, black, pacific islander, white</td>\n",
       "      <td>2</td>\n",
       "    </tr>\n",
       "    <tr>\n",
       "      <th>136</th>\n",
       "      <td>native american, pacific islander, white, other</td>\n",
       "      <td>2</td>\n",
       "    </tr>\n",
       "    <tr>\n",
       "      <th>137</th>\n",
       "      <td>asian, black, native american, white, other</td>\n",
       "      <td>2</td>\n",
       "    </tr>\n",
       "    <tr>\n",
       "      <th>138</th>\n",
       "      <td>asian, black, hispanic / latin, other</td>\n",
       "      <td>2</td>\n",
       "    </tr>\n",
       "    <tr>\n",
       "      <th>139</th>\n",
       "      <td>asian, black, native american, pacific islander</td>\n",
       "      <td>2</td>\n",
       "    </tr>\n",
       "    <tr>\n",
       "      <th>140</th>\n",
       "      <td>asian, black, native american, other</td>\n",
       "      <td>2</td>\n",
       "    </tr>\n",
       "    <tr>\n",
       "      <th>141</th>\n",
       "      <td>asian, black, hispanic / latin</td>\n",
       "      <td>2</td>\n",
       "    </tr>\n",
       "    <tr>\n",
       "      <th>142</th>\n",
       "      <td>asian, black, hispanic / latin, white</td>\n",
       "      <td>2</td>\n",
       "    </tr>\n",
       "    <tr>\n",
       "      <th>143</th>\n",
       "      <td>middle eastern, black, native american, indian, white, other</td>\n",
       "      <td>2</td>\n",
       "    </tr>\n",
       "    <tr>\n",
       "      <th>144</th>\n",
       "      <td>black, native american, pacific islander, hispanic / latin, white, other</td>\n",
       "      <td>2</td>\n",
       "    </tr>\n",
       "    <tr>\n",
       "      <th>145</th>\n",
       "      <td>asian, native american, other</td>\n",
       "      <td>2</td>\n",
       "    </tr>\n",
       "    <tr>\n",
       "      <th>146</th>\n",
       "      <td>asian, black, native american, hispanic / latin, white</td>\n",
       "      <td>2</td>\n",
       "    </tr>\n",
       "    <tr>\n",
       "      <th>147</th>\n",
       "      <td>asian, pacific islander, hispanic / latin, other</td>\n",
       "      <td>2</td>\n",
       "    </tr>\n",
       "    <tr>\n",
       "      <th>148</th>\n",
       "      <td>asian, native american, pacific islander, white, other</td>\n",
       "      <td>2</td>\n",
       "    </tr>\n",
       "    <tr>\n",
       "      <th>149</th>\n",
       "      <td>asian, native american, pacific islander, white</td>\n",
       "      <td>2</td>\n",
       "    </tr>\n",
       "    <tr>\n",
       "      <th>150</th>\n",
       "      <td>black, native american, indian, white, other</td>\n",
       "      <td>2</td>\n",
       "    </tr>\n",
       "    <tr>\n",
       "      <th>151</th>\n",
       "      <td>black, native american, pacific islander</td>\n",
       "      <td>2</td>\n",
       "    </tr>\n",
       "    <tr>\n",
       "      <th>152</th>\n",
       "      <td>black, native american, pacific islander, hispanic / latin, white</td>\n",
       "      <td>2</td>\n",
       "    </tr>\n",
       "    <tr>\n",
       "      <th>153</th>\n",
       "      <td>black, native american, pacific islander, white</td>\n",
       "      <td>2</td>\n",
       "    </tr>\n",
       "    <tr>\n",
       "      <th>154</th>\n",
       "      <td>asian, native american, pacific islander</td>\n",
       "      <td>2</td>\n",
       "    </tr>\n",
       "    <tr>\n",
       "      <th>155</th>\n",
       "      <td>asian, black, native american, hispanic / latin</td>\n",
       "      <td>2</td>\n",
       "    </tr>\n",
       "    <tr>\n",
       "      <th>156</th>\n",
       "      <td>middle eastern, black, hispanic / latin</td>\n",
       "      <td>1</td>\n",
       "    </tr>\n",
       "    <tr>\n",
       "      <th>157</th>\n",
       "      <td>black, native american, pacific islander, hispanic / latin</td>\n",
       "      <td>1</td>\n",
       "    </tr>\n",
       "    <tr>\n",
       "      <th>158</th>\n",
       "      <td>asian, native american, pacific islander, hispanic / latin, white, other</td>\n",
       "      <td>1</td>\n",
       "    </tr>\n",
       "    <tr>\n",
       "      <th>159</th>\n",
       "      <td>asian, indian, pacific islander, hispanic / latin, white, other</td>\n",
       "      <td>1</td>\n",
       "    </tr>\n",
       "    <tr>\n",
       "      <th>160</th>\n",
       "      <td>asian, indian, hispanic / latin, white</td>\n",
       "      <td>1</td>\n",
       "    </tr>\n",
       "    <tr>\n",
       "      <th>161</th>\n",
       "      <td>asian, indian, hispanic / latin, other</td>\n",
       "      <td>1</td>\n",
       "    </tr>\n",
       "    <tr>\n",
       "      <th>162</th>\n",
       "      <td>asian, middle eastern, indian, hispanic / latin</td>\n",
       "      <td>1</td>\n",
       "    </tr>\n",
       "    <tr>\n",
       "      <th>163</th>\n",
       "      <td>black, native american, indian, white</td>\n",
       "      <td>1</td>\n",
       "    </tr>\n",
       "    <tr>\n",
       "      <th>164</th>\n",
       "      <td>native american, indian, pacific islander, hispanic / latin</td>\n",
       "      <td>1</td>\n",
       "    </tr>\n",
       "    <tr>\n",
       "      <th>165</th>\n",
       "      <td>native american, indian, white</td>\n",
       "      <td>1</td>\n",
       "    </tr>\n",
       "    <tr>\n",
       "      <th>166</th>\n",
       "      <td>asian, black, white, other</td>\n",
       "      <td>1</td>\n",
       "    </tr>\n",
       "    <tr>\n",
       "      <th>167</th>\n",
       "      <td>black, native american, indian, pacific islander, hispanic / latin</td>\n",
       "      <td>1</td>\n",
       "    </tr>\n",
       "    <tr>\n",
       "      <th>168</th>\n",
       "      <td>asian, black, pacific islander, white, other</td>\n",
       "      <td>1</td>\n",
       "    </tr>\n",
       "    <tr>\n",
       "      <th>169</th>\n",
       "      <td>black, native american, indian, pacific islander</td>\n",
       "      <td>1</td>\n",
       "    </tr>\n",
       "    <tr>\n",
       "      <th>170</th>\n",
       "      <td>asian, black, pacific islander, other</td>\n",
       "      <td>1</td>\n",
       "    </tr>\n",
       "    <tr>\n",
       "      <th>171</th>\n",
       "      <td>asian, black, pacific islander, hispanic / latin, white</td>\n",
       "      <td>1</td>\n",
       "    </tr>\n",
       "    <tr>\n",
       "      <th>172</th>\n",
       "      <td>asian, middle eastern, indian, hispanic / latin, white, other</td>\n",
       "      <td>1</td>\n",
       "    </tr>\n",
       "    <tr>\n",
       "      <th>173</th>\n",
       "      <td>black, native american, indian, hispanic / latin, white, other</td>\n",
       "      <td>1</td>\n",
       "    </tr>\n",
       "    <tr>\n",
       "      <th>174</th>\n",
       "      <td>asian, black, native american, pacific islander, white, other</td>\n",
       "      <td>1</td>\n",
       "    </tr>\n",
       "    <tr>\n",
       "      <th>175</th>\n",
       "      <td>black, native american, indian</td>\n",
       "      <td>1</td>\n",
       "    </tr>\n",
       "    <tr>\n",
       "      <th>176</th>\n",
       "      <td>asian, middle eastern, native american, pacific islander, other</td>\n",
       "      <td>1</td>\n",
       "    </tr>\n",
       "    <tr>\n",
       "      <th>177</th>\n",
       "      <td>asian, black, native american, pacific islander, other</td>\n",
       "      <td>1</td>\n",
       "    </tr>\n",
       "    <tr>\n",
       "      <th>178</th>\n",
       "      <td>asian, black, indian</td>\n",
       "      <td>1</td>\n",
       "    </tr>\n",
       "    <tr>\n",
       "      <th>179</th>\n",
       "      <td>asian, middle eastern, native american, pacific islander, hispanic / latin, white, other</td>\n",
       "      <td>1</td>\n",
       "    </tr>\n",
       "    <tr>\n",
       "      <th>180</th>\n",
       "      <td>asian, black, native american, indian, pacific islander, white</td>\n",
       "      <td>1</td>\n",
       "    </tr>\n",
       "    <tr>\n",
       "      <th>181</th>\n",
       "      <td>asian, black, native american, indian, pacific islander, hispanic / latin</td>\n",
       "      <td>1</td>\n",
       "    </tr>\n",
       "    <tr>\n",
       "      <th>182</th>\n",
       "      <td>asian, black, native american, indian, hispanic / latin, white, other</td>\n",
       "      <td>1</td>\n",
       "    </tr>\n",
       "    <tr>\n",
       "      <th>183</th>\n",
       "      <td>asian, black, native american, indian</td>\n",
       "      <td>1</td>\n",
       "    </tr>\n",
       "    <tr>\n",
       "      <th>184</th>\n",
       "      <td>asian, black, indian, hispanic / latin, other</td>\n",
       "      <td>1</td>\n",
       "    </tr>\n",
       "    <tr>\n",
       "      <th>185</th>\n",
       "      <td>indian, pacific islander, hispanic / latin, white</td>\n",
       "      <td>1</td>\n",
       "    </tr>\n",
       "    <tr>\n",
       "      <th>186</th>\n",
       "      <td>asian, middle eastern, hispanic / latin, white, other</td>\n",
       "      <td>1</td>\n",
       "    </tr>\n",
       "    <tr>\n",
       "      <th>187</th>\n",
       "      <td>middle eastern, black, indian, pacific islander, hispanic / latin, white</td>\n",
       "      <td>1</td>\n",
       "    </tr>\n",
       "    <tr>\n",
       "      <th>188</th>\n",
       "      <td>middle eastern, pacific islander, hispanic / latin</td>\n",
       "      <td>1</td>\n",
       "    </tr>\n",
       "    <tr>\n",
       "      <th>189</th>\n",
       "      <td>middle eastern, black, native american, hispanic / latin, white</td>\n",
       "      <td>1</td>\n",
       "    </tr>\n",
       "    <tr>\n",
       "      <th>190</th>\n",
       "      <td>middle eastern, black, native american, indian</td>\n",
       "      <td>1</td>\n",
       "    </tr>\n",
       "    <tr>\n",
       "      <th>191</th>\n",
       "      <td>middle eastern, black, native american, indian, hispanic / latin, white</td>\n",
       "      <td>1</td>\n",
       "    </tr>\n",
       "    <tr>\n",
       "      <th>192</th>\n",
       "      <td>middle eastern, black, native american, indian, pacific islander, hispanic / latin, white</td>\n",
       "      <td>1</td>\n",
       "    </tr>\n",
       "    <tr>\n",
       "      <th>193</th>\n",
       "      <td>middle eastern, black, native american, indian, pacific islander, hispanic / latin, white, other</td>\n",
       "      <td>1</td>\n",
       "    </tr>\n",
       "    <tr>\n",
       "      <th>194</th>\n",
       "      <td>asian, middle eastern, other</td>\n",
       "      <td>1</td>\n",
       "    </tr>\n",
       "    <tr>\n",
       "      <th>195</th>\n",
       "      <td>asian, native american, hispanic / latin, other</td>\n",
       "      <td>1</td>\n",
       "    </tr>\n",
       "    <tr>\n",
       "      <th>196</th>\n",
       "      <td>middle eastern, black, native american, white, other</td>\n",
       "      <td>1</td>\n",
       "    </tr>\n",
       "    <tr>\n",
       "      <th>197</th>\n",
       "      <td>middle eastern, black, other</td>\n",
       "      <td>1</td>\n",
       "    </tr>\n",
       "    <tr>\n",
       "      <th>198</th>\n",
       "      <td>middle eastern, black, pacific islander, white</td>\n",
       "      <td>1</td>\n",
       "    </tr>\n",
       "    <tr>\n",
       "      <th>199</th>\n",
       "      <td>asian, native american, indian, pacific islander, hispanic / latin, white</td>\n",
       "      <td>1</td>\n",
       "    </tr>\n",
       "    <tr>\n",
       "      <th>200</th>\n",
       "      <td>asian, native american, indian, pacific islander, hispanic / latin, white, other</td>\n",
       "      <td>1</td>\n",
       "    </tr>\n",
       "    <tr>\n",
       "      <th>201</th>\n",
       "      <td>asian, middle eastern, black, pacific islander, hispanic / latin</td>\n",
       "      <td>1</td>\n",
       "    </tr>\n",
       "    <tr>\n",
       "      <th>202</th>\n",
       "      <td>asian, middle eastern, black, pacific islander</td>\n",
       "      <td>1</td>\n",
       "    </tr>\n",
       "    <tr>\n",
       "      <th>203</th>\n",
       "      <td>asian, middle eastern, black, white, other</td>\n",
       "      <td>1</td>\n",
       "    </tr>\n",
       "    <tr>\n",
       "      <th>204</th>\n",
       "      <td>asian, middle eastern, hispanic / latin</td>\n",
       "      <td>1</td>\n",
       "    </tr>\n",
       "    <tr>\n",
       "      <th>205</th>\n",
       "      <td>asian, middle eastern, black, native american, indian, pacific islander, white</td>\n",
       "      <td>1</td>\n",
       "    </tr>\n",
       "    <tr>\n",
       "      <th>206</th>\n",
       "      <td>middle eastern, indian, white</td>\n",
       "      <td>1</td>\n",
       "    </tr>\n",
       "    <tr>\n",
       "      <th>207</th>\n",
       "      <td>black, native american, pacific islander, white, other</td>\n",
       "      <td>1</td>\n",
       "    </tr>\n",
       "    <tr>\n",
       "      <th>208</th>\n",
       "      <td>middle eastern, native american</td>\n",
       "      <td>1</td>\n",
       "    </tr>\n",
       "    <tr>\n",
       "      <th>209</th>\n",
       "      <td>asian, middle eastern, native american, pacific islander, white, other</td>\n",
       "      <td>1</td>\n",
       "    </tr>\n",
       "    <tr>\n",
       "      <th>210</th>\n",
       "      <td>black, native american, pacific islander, other</td>\n",
       "      <td>1</td>\n",
       "    </tr>\n",
       "    <tr>\n",
       "      <th>211</th>\n",
       "      <td>asian, middle eastern, native american, hispanic / latin, white</td>\n",
       "      <td>1</td>\n",
       "    </tr>\n",
       "    <tr>\n",
       "      <th>212</th>\n",
       "      <td>asian, middle eastern, black, native american, indian, pacific islander, hispanic / latin</td>\n",
       "      <td>1</td>\n",
       "    </tr>\n",
       "    <tr>\n",
       "      <th>213</th>\n",
       "      <td>middle eastern, native american, white, other</td>\n",
       "      <td>1</td>\n",
       "    </tr>\n",
       "    <tr>\n",
       "      <th>214</th>\n",
       "      <td>asian, middle eastern, black, native american, hispanic / latin, white</td>\n",
       "      <td>1</td>\n",
       "    </tr>\n",
       "    <tr>\n",
       "      <th>215</th>\n",
       "      <td>middle eastern, pacific islander</td>\n",
       "      <td>1</td>\n",
       "    </tr>\n",
       "    <tr>\n",
       "      <th>216</th>\n",
       "      <td>asian, black, hispanic / latin, white, other</td>\n",
       "      <td>1</td>\n",
       "    </tr>\n",
       "  </tbody>\n",
       "</table>\n",
       "</div>"
      ],
      "text/plain": [
       "                                                                                                   ethnicity  \\\n",
       "0                                                                                                      white   \n",
       "1                                                                                                      asian   \n",
       "2                                                                                           hispanic / latin   \n",
       "3                                                                                                      black   \n",
       "4                                                                                                      other   \n",
       "5                                                                                    hispanic / latin, white   \n",
       "6                                                                                                     indian   \n",
       "7                                                                                               asian, white   \n",
       "8                                                                                               white, other   \n",
       "9                                                                                           pacific islander   \n",
       "10                                                                                   asian, pacific islander   \n",
       "11                                                                                    native american, white   \n",
       "12                                                                                            middle eastern   \n",
       "13                                                                                     middle eastern, white   \n",
       "14                                                                                              black, white   \n",
       "15                                                                                   pacific islander, white   \n",
       "16                                                                                   hispanic / latin, other   \n",
       "17                                                                                              black, other   \n",
       "18                                                                                   black, hispanic / latin   \n",
       "19                                                                            hispanic / latin, white, other   \n",
       "20                                                                             black, native american, white   \n",
       "21                                                                                    black, native american   \n",
       "22                                                                                              asian, other   \n",
       "23                                                                                   asian, hispanic / latin   \n",
       "24                                                                  native american, hispanic / latin, white   \n",
       "25                                                                         native american, hispanic / latin   \n",
       "26                                                                                       asian, white, other   \n",
       "27                                                                                           native american   \n",
       "28   asian, middle eastern, black, native american, indian, pacific islander, hispanic / latin, white, other   \n",
       "29                                                                                              asian, black   \n",
       "30                                                                        pacific islander, hispanic / latin   \n",
       "31                                                                            asian, pacific islander, white   \n",
       "32                                                                             native american, white, other   \n",
       "33                                                                                             asian, indian   \n",
       "34                                                                                       black, white, other   \n",
       "35                                                                                             indian, white   \n",
       "36                                                                            asian, hispanic / latin, white   \n",
       "37                                                                              middle eastern, white, other   \n",
       "38                                                                          middle eastern, hispanic / latin   \n",
       "39                                                                            asian, pacific islander, other   \n",
       "40                                                                            black, hispanic / latin, white   \n",
       "41                                                           native american, hispanic / latin, white, other   \n",
       "42                                                                 pacific islander, hispanic / latin, white   \n",
       "43                                                                                             indian, other   \n",
       "44                                                                      black, native american, white, other   \n",
       "45                                                                             black, native american, other   \n",
       "46                                                           black, native american, hispanic / latin, white   \n",
       "47                                                                                     middle eastern, other   \n",
       "48                                                                  black, native american, hispanic / latin   \n",
       "49                                                                             asian, native american, white   \n",
       "50                                                                            pacific islander, white, other   \n",
       "51                                                                                             black, indian   \n",
       "52                                                                                    native american, other   \n",
       "53                                                                                       asian, black, white   \n",
       "54                                                                                   black, pacific islander   \n",
       "55                                                                                      indian, white, other   \n",
       "56                                                                                   pacific islander, other   \n",
       "57                                                                  native american, hispanic / latin, other   \n",
       "58                                                                 asian, pacific islander, hispanic / latin   \n",
       "59                                                                            black, hispanic / latin, other   \n",
       "60                                                                                  indian, pacific islander   \n",
       "61                                                                   middle eastern, hispanic / latin, white   \n",
       "62                                                                                     asian, middle eastern   \n",
       "63                                                          asian, pacific islander, hispanic / latin, white   \n",
       "64                                                                                    middle eastern, indian   \n",
       "65                                                                     asian, pacific islander, white, other   \n",
       "66                                                    black, native american, hispanic / latin, white, other   \n",
       "67                                                                     asian, hispanic / latin, white, other   \n",
       "68          asian, middle eastern, black, native american, indian, pacific islander, hispanic / latin, white   \n",
       "69                                                                             asian, black, native american   \n",
       "70                                                                            asian, hispanic / latin, other   \n",
       "71                                                                              asian, middle eastern, white   \n",
       "72                                                                                       asian, black, other   \n",
       "73                                                                    middle eastern, native american, white   \n",
       "74                                                                      asian, black, native american, white   \n",
       "75                                                                                  indian, hispanic / latin   \n",
       "76                                                           asian, native american, hispanic / latin, white   \n",
       "77                                                                  native american, pacific islander, white   \n",
       "78                                                                       asian, middle eastern, white, other   \n",
       "79                                                                            asian, black, pacific islander   \n",
       "80                                                                                      black, indian, white   \n",
       "81                                                                                     middle eastern, black   \n",
       "82                                                                           asian, indian, pacific islander   \n",
       "83                                                           black, native american, hispanic / latin, other   \n",
       "84                                                native american, pacific islander, hispanic / latin, white   \n",
       "85                                                                      asian, native american, white, other   \n",
       "86                                                   asian, pacific islander, hispanic / latin, white, other   \n",
       "87                                                                 pacific islander, hispanic / latin, other   \n",
       "88                                                                  asian, native american, hispanic / latin   \n",
       "89                                                                                      asian, indian, white   \n",
       "90                                                          pacific islander, hispanic / latin, white, other   \n",
       "91                                                                 black, pacific islander, hispanic / latin   \n",
       "92                                                       native american, pacific islander, hispanic / latin   \n",
       "93                                                                     black, hispanic / latin, white, other   \n",
       "94                                                                             asian, middle eastern, indian   \n",
       "95                                                                                      asian, indian, other   \n",
       "96                                                                               black, indian, white, other   \n",
       "97                                                                             middle eastern, indian, other   \n",
       "98                                         asian, native american, pacific islander, hispanic / latin, white   \n",
       "99                                                    asian, native american, hispanic / latin, white, other   \n",
       "100                                                                           black, pacific islander, other   \n",
       "101                                                                           black, pacific islander, white   \n",
       "102                                                                          indian, hispanic / latin, other   \n",
       "103                                                         asian, black, pacific islander, hispanic / latin   \n",
       "104                                                                  middle eastern, hispanic / latin, other   \n",
       "105                                        native american, pacific islander, hispanic / latin, white, other   \n",
       "106                                                                    black, native american, indian, other   \n",
       "107                                                        middle eastern, native american, hispanic / latin   \n",
       "108                                                                  middle eastern, pacific islander, other   \n",
       "109                                                                                     black, indian, other   \n",
       "110                                                                                   asian, native american   \n",
       "111                                                                     asian, middle eastern, indian, other   \n",
       "112                                                   asian, black, native american, pacific islander, white   \n",
       "113                                                                   asian, indian, pacific islander, other   \n",
       "114                                                                          black, indian, hispanic / latin   \n",
       "115                                                                             middle eastern, black, white   \n",
       "116                                                                     middle eastern, indian, white, other   \n",
       "117          asian, middle eastern, black, native american, pacific islander, hispanic / latin, white, other   \n",
       "118                                                           middle eastern, hispanic / latin, white, other   \n",
       "119                                  asian, middle eastern, black, pacific islander, hispanic / latin, white   \n",
       "120                                                                   black, indian, hispanic / latin, white   \n",
       "121                                                            middle eastern, black, native american, white   \n",
       "122                                                 middle eastern, native american, hispanic / latin, white   \n",
       "123                                                           asian, middle eastern, hispanic / latin, white   \n",
       "124                                                                   indian, hispanic / latin, white, other   \n",
       "125                                                                          indian, hispanic / latin, white   \n",
       "126         asian, middle eastern, black, native american, indian, pacific islander, hispanic / latin, other   \n",
       "127                          asian, middle eastern, black, indian, pacific islander, hispanic / latin, white   \n",
       "128                                          middle eastern, native american, hispanic / latin, white, other   \n",
       "129                asian, middle eastern, native american, indian, pacific islander, hispanic / latin, white   \n",
       "130                                                                             asian, middle eastern, black   \n",
       "131                                                                              asian, indian, white, other   \n",
       "132                                                                          asian, indian, hispanic / latin   \n",
       "133                                                                                  native american, indian   \n",
       "134                                                                        native american, pacific islander   \n",
       "135                                                                    asian, black, pacific islander, white   \n",
       "136                                                          native american, pacific islander, white, other   \n",
       "137                                                              asian, black, native american, white, other   \n",
       "138                                                                    asian, black, hispanic / latin, other   \n",
       "139                                                          asian, black, native american, pacific islander   \n",
       "140                                                                     asian, black, native american, other   \n",
       "141                                                                           asian, black, hispanic / latin   \n",
       "142                                                                    asian, black, hispanic / latin, white   \n",
       "143                                             middle eastern, black, native american, indian, white, other   \n",
       "144                                 black, native american, pacific islander, hispanic / latin, white, other   \n",
       "145                                                                            asian, native american, other   \n",
       "146                                                   asian, black, native american, hispanic / latin, white   \n",
       "147                                                         asian, pacific islander, hispanic / latin, other   \n",
       "148                                                   asian, native american, pacific islander, white, other   \n",
       "149                                                          asian, native american, pacific islander, white   \n",
       "150                                                             black, native american, indian, white, other   \n",
       "151                                                                 black, native american, pacific islander   \n",
       "152                                        black, native american, pacific islander, hispanic / latin, white   \n",
       "153                                                          black, native american, pacific islander, white   \n",
       "154                                                                 asian, native american, pacific islander   \n",
       "155                                                          asian, black, native american, hispanic / latin   \n",
       "156                                                                  middle eastern, black, hispanic / latin   \n",
       "157                                               black, native american, pacific islander, hispanic / latin   \n",
       "158                                 asian, native american, pacific islander, hispanic / latin, white, other   \n",
       "159                                          asian, indian, pacific islander, hispanic / latin, white, other   \n",
       "160                                                                   asian, indian, hispanic / latin, white   \n",
       "161                                                                   asian, indian, hispanic / latin, other   \n",
       "162                                                          asian, middle eastern, indian, hispanic / latin   \n",
       "163                                                                    black, native american, indian, white   \n",
       "164                                              native american, indian, pacific islander, hispanic / latin   \n",
       "165                                                                           native american, indian, white   \n",
       "166                                                                               asian, black, white, other   \n",
       "167                                       black, native american, indian, pacific islander, hispanic / latin   \n",
       "168                                                             asian, black, pacific islander, white, other   \n",
       "169                                                         black, native american, indian, pacific islander   \n",
       "170                                                                    asian, black, pacific islander, other   \n",
       "171                                                  asian, black, pacific islander, hispanic / latin, white   \n",
       "172                                            asian, middle eastern, indian, hispanic / latin, white, other   \n",
       "173                                           black, native american, indian, hispanic / latin, white, other   \n",
       "174                                            asian, black, native american, pacific islander, white, other   \n",
       "175                                                                           black, native american, indian   \n",
       "176                                          asian, middle eastern, native american, pacific islander, other   \n",
       "177                                                   asian, black, native american, pacific islander, other   \n",
       "178                                                                                     asian, black, indian   \n",
       "179                 asian, middle eastern, native american, pacific islander, hispanic / latin, white, other   \n",
       "180                                           asian, black, native american, indian, pacific islander, white   \n",
       "181                                asian, black, native american, indian, pacific islander, hispanic / latin   \n",
       "182                                    asian, black, native american, indian, hispanic / latin, white, other   \n",
       "183                                                                    asian, black, native american, indian   \n",
       "184                                                            asian, black, indian, hispanic / latin, other   \n",
       "185                                                        indian, pacific islander, hispanic / latin, white   \n",
       "186                                                    asian, middle eastern, hispanic / latin, white, other   \n",
       "187                                 middle eastern, black, indian, pacific islander, hispanic / latin, white   \n",
       "188                                                       middle eastern, pacific islander, hispanic / latin   \n",
       "189                                          middle eastern, black, native american, hispanic / latin, white   \n",
       "190                                                           middle eastern, black, native american, indian   \n",
       "191                                  middle eastern, black, native american, indian, hispanic / latin, white   \n",
       "192                middle eastern, black, native american, indian, pacific islander, hispanic / latin, white   \n",
       "193         middle eastern, black, native american, indian, pacific islander, hispanic / latin, white, other   \n",
       "194                                                                             asian, middle eastern, other   \n",
       "195                                                          asian, native american, hispanic / latin, other   \n",
       "196                                                     middle eastern, black, native american, white, other   \n",
       "197                                                                             middle eastern, black, other   \n",
       "198                                                           middle eastern, black, pacific islander, white   \n",
       "199                                asian, native american, indian, pacific islander, hispanic / latin, white   \n",
       "200                         asian, native american, indian, pacific islander, hispanic / latin, white, other   \n",
       "201                                         asian, middle eastern, black, pacific islander, hispanic / latin   \n",
       "202                                                           asian, middle eastern, black, pacific islander   \n",
       "203                                                               asian, middle eastern, black, white, other   \n",
       "204                                                                  asian, middle eastern, hispanic / latin   \n",
       "205                           asian, middle eastern, black, native american, indian, pacific islander, white   \n",
       "206                                                                            middle eastern, indian, white   \n",
       "207                                                   black, native american, pacific islander, white, other   \n",
       "208                                                                          middle eastern, native american   \n",
       "209                                   asian, middle eastern, native american, pacific islander, white, other   \n",
       "210                                                          black, native american, pacific islander, other   \n",
       "211                                          asian, middle eastern, native american, hispanic / latin, white   \n",
       "212                asian, middle eastern, black, native american, indian, pacific islander, hispanic / latin   \n",
       "213                                                            middle eastern, native american, white, other   \n",
       "214                                   asian, middle eastern, black, native american, hispanic / latin, white   \n",
       "215                                                                         middle eastern, pacific islander   \n",
       "216                                                             asian, black, hispanic / latin, white, other   \n",
       "\n",
       "     counts  \n",
       "0     32831  \n",
       "1      6134  \n",
       "2      2823  \n",
       "3      2008  \n",
       "4      1706  \n",
       "5      1301  \n",
       "6      1077  \n",
       "7       811  \n",
       "8       641  \n",
       "9       432  \n",
       "10      395  \n",
       "11      338  \n",
       "12      329  \n",
       "13      300  \n",
       "14      298  \n",
       "15      156  \n",
       "16      138  \n",
       "17      133  \n",
       "18      119  \n",
       "19      117  \n",
       "20      110  \n",
       "21      100  \n",
       "22       95  \n",
       "23       88  \n",
       "24       87  \n",
       "25       73  \n",
       "26       69  \n",
       "27       67  \n",
       "28       66  \n",
       "29       59  \n",
       "30       57  \n",
       "31       55  \n",
       "32       54  \n",
       "33       52  \n",
       "34       49  \n",
       "35       46  \n",
       "36       42  \n",
       "37       40  \n",
       "38       39  \n",
       "39       38  \n",
       "40       36  \n",
       "41       33  \n",
       "42       30  \n",
       "43       30  \n",
       "44       29  \n",
       "45       27  \n",
       "46       26  \n",
       "47       23  \n",
       "48       19  \n",
       "49       18  \n",
       "50       18  \n",
       "51       17  \n",
       "52       16  \n",
       "53       15  \n",
       "54       15  \n",
       "55       14  \n",
       "56       14  \n",
       "57       13  \n",
       "58       13  \n",
       "59       13  \n",
       "60       12  \n",
       "61       12  \n",
       "62       12  \n",
       "63       11  \n",
       "64       11  \n",
       "65       10  \n",
       "66       10  \n",
       "67        9  \n",
       "68        9  \n",
       "69        9  \n",
       "70        9  \n",
       "71        9  \n",
       "72        9  \n",
       "73        8  \n",
       "74        8  \n",
       "75        8  \n",
       "76        7  \n",
       "77        7  \n",
       "78        6  \n",
       "79        6  \n",
       "80        6  \n",
       "81        6  \n",
       "82        6  \n",
       "83        5  \n",
       "84        5  \n",
       "85        5  \n",
       "86        5  \n",
       "87        5  \n",
       "88        5  \n",
       "89        5  \n",
       "90        5  \n",
       "91        5  \n",
       "92        5  \n",
       "93        5  \n",
       "94        5  \n",
       "95        5  \n",
       "96        4  \n",
       "97        4  \n",
       "98        4  \n",
       "99        4  \n",
       "100       4  \n",
       "101       4  \n",
       "102       4  \n",
       "103       4  \n",
       "104       4  \n",
       "105       3  \n",
       "106       3  \n",
       "107       3  \n",
       "108       3  \n",
       "109       3  \n",
       "110       3  \n",
       "111       3  \n",
       "112       3  \n",
       "113       3  \n",
       "114       3  \n",
       "115       2  \n",
       "116       2  \n",
       "117       2  \n",
       "118       2  \n",
       "119       2  \n",
       "120       2  \n",
       "121       2  \n",
       "122       2  \n",
       "123       2  \n",
       "124       2  \n",
       "125       2  \n",
       "126       2  \n",
       "127       2  \n",
       "128       2  \n",
       "129       2  \n",
       "130       2  \n",
       "131       2  \n",
       "132       2  \n",
       "133       2  \n",
       "134       2  \n",
       "135       2  \n",
       "136       2  \n",
       "137       2  \n",
       "138       2  \n",
       "139       2  \n",
       "140       2  \n",
       "141       2  \n",
       "142       2  \n",
       "143       2  \n",
       "144       2  \n",
       "145       2  \n",
       "146       2  \n",
       "147       2  \n",
       "148       2  \n",
       "149       2  \n",
       "150       2  \n",
       "151       2  \n",
       "152       2  \n",
       "153       2  \n",
       "154       2  \n",
       "155       2  \n",
       "156       1  \n",
       "157       1  \n",
       "158       1  \n",
       "159       1  \n",
       "160       1  \n",
       "161       1  \n",
       "162       1  \n",
       "163       1  \n",
       "164       1  \n",
       "165       1  \n",
       "166       1  \n",
       "167       1  \n",
       "168       1  \n",
       "169       1  \n",
       "170       1  \n",
       "171       1  \n",
       "172       1  \n",
       "173       1  \n",
       "174       1  \n",
       "175       1  \n",
       "176       1  \n",
       "177       1  \n",
       "178       1  \n",
       "179       1  \n",
       "180       1  \n",
       "181       1  \n",
       "182       1  \n",
       "183       1  \n",
       "184       1  \n",
       "185       1  \n",
       "186       1  \n",
       "187       1  \n",
       "188       1  \n",
       "189       1  \n",
       "190       1  \n",
       "191       1  \n",
       "192       1  \n",
       "193       1  \n",
       "194       1  \n",
       "195       1  \n",
       "196       1  \n",
       "197       1  \n",
       "198       1  \n",
       "199       1  \n",
       "200       1  \n",
       "201       1  \n",
       "202       1  \n",
       "203       1  \n",
       "204       1  \n",
       "205       1  \n",
       "206       1  \n",
       "207       1  \n",
       "208       1  \n",
       "209       1  \n",
       "210       1  \n",
       "211       1  \n",
       "212       1  \n",
       "213       1  \n",
       "214       1  \n",
       "215       1  \n",
       "216       1  "
      ]
     },
     "execution_count": 19,
     "metadata": {},
     "output_type": "execute_result"
    }
   ],
   "source": [
    "# count  a number of each unique ethnicity\n",
    "ethnicity_counts = df.groupby('ethnicity').status.count()\n",
    "\n",
    "# sort values by the number of count\n",
    "ethnicity_counts = ethnicity_counts.sort_values(ascending=False).reset_index(name='counts')\n",
    "\n",
    "ethnicity_counts"
   ]
  },
  {
   "cell_type": "markdown",
   "metadata": {},
   "source": [
    "Most of users are white. However, more than one ethnicity can be applied to one user. Some people might do not honestly tell what ethnicity they are as there are people being both white and black or both hispanic/latin and native american, and so on. "
   ]
  },
  {
   "cell_type": "markdown",
   "metadata": {},
   "source": [
    "## Job"
   ]
  },
  {
   "cell_type": "code",
   "execution_count": 20,
   "metadata": {},
   "outputs": [
    {
     "data": {
      "image/png": "[encoded data removed]",
      "text/plain": [
       "<Figure size 576x432 with 1 Axes>"
      ]
     },
     "metadata": {
      "needs_background": "light"
     },
     "output_type": "display_data"
    }
   ],
   "source": [
    "fig, ax = plt.subplots()\n",
    "ax = sns.countplot(data = df, y = 'job', palette = 'Set2')\n",
    "labels = [item.get_text() for item in ax.get_yticklabels()]\n",
    "ax.set_title(\"Job\", pad=10)\n",
    "ax.set_yticks(range(len(labels)))\n",
    "ax.set_yticklabels(labels, fontsize=10)\n",
    "plt.show()"
   ]
  },
  {
   "cell_type": "markdown",
   "metadata": {},
   "source": [
    "## Offspring"
   ]
  },
  {
   "cell_type": "code",
   "execution_count": 21,
   "metadata": {},
   "outputs": [
    {
     "data": {
      "image/png": "[encoded data removed]",
      "text/plain": [
       "<Figure size 576x432 with 1 Axes>"
      ]
     },
     "metadata": {
      "needs_background": "light"
     },
     "output_type": "display_data"
    }
   ],
   "source": [
    "fig, ax = plt.subplots()\n",
    "ax = sns.countplot(data = df, y = 'offspring', palette = 'Set2')\n",
    "labels = [item.get_text() for item in ax.get_yticklabels()]\n",
    "ax.set_title(\"Offspring\", pad=10)\n",
    "ax.set_yticks(range(len(labels)))\n",
    "ax.set_yticklabels(labels, fontsize=10)\n",
    "plt.show()"
   ]
  },
  {
   "cell_type": "markdown",
   "metadata": {},
   "source": [
    "## Orientation"
   ]
  },
  {
   "cell_type": "code",
   "execution_count": 22,
   "metadata": {},
   "outputs": [
    {
     "data": {
      "image/png": "[encoded data removed]",
      "text/plain": [
       "<Figure size 576x432 with 1 Axes>"
      ]
     },
     "metadata": {
      "needs_background": "light"
     },
     "output_type": "display_data"
    }
   ],
   "source": [
    "fig, ax = plt.subplots()\n",
    "ax = sns.countplot(data = df, y = 'orientation', palette = 'Set2')\n",
    "labels = [item.get_text() for item in ax.get_yticklabels()]\n",
    "ax.set_title(\"Orientation\", pad=10)\n",
    "ax.set_yticks(range(len(labels)))\n",
    "ax.set_yticklabels(labels, fontsize=10)\n",
    "plt.show()"
   ]
  },
  {
   "cell_type": "code",
   "execution_count": 23,
   "metadata": {},
   "outputs": [
    {
     "data": {
      "image/png": "[encoded data removed]",
      "text/plain": [
       "<Figure size 576x432 with 1 Axes>"
      ]
     },
     "metadata": {
      "needs_background": "light"
     },
     "output_type": "display_data"
    }
   ],
   "source": [
    "fig, ax = plt.subplots()\n",
    "ax = sns.countplot(data = df, y = 'orientation', hue='sex', palette = ['cornflowerblue', 'hotpink'])\n",
    "labels = [item.get_text() for item in ax.get_yticklabels()]\n",
    "ax.set_title(\"Orientation by Sex\", pad=10)\n",
    "ax.set_yticks(range(len(labels)))\n",
    "ax.set_yticklabels(labels, fontsize=10)\n",
    "plt.show()"
   ]
  },
  {
   "cell_type": "markdown",
   "metadata": {},
   "source": [
    "## Pets"
   ]
  },
  {
   "cell_type": "code",
   "execution_count": 24,
   "metadata": {},
   "outputs": [
    {
     "data": {
      "image/png": "[encoded data removed]",
      "text/plain": [
       "<Figure size 576x432 with 1 Axes>"
      ]
     },
     "metadata": {
      "needs_background": "light"
     },
     "output_type": "display_data"
    }
   ],
   "source": [
    "fig, ax = plt.subplots()\n",
    "ax = sns.countplot(data = df, y = 'pets', palette = 'Set2')\n",
    "labels = [item.get_text() for item in ax.get_yticklabels()]\n",
    "ax.set_title(\"Pets\", pad=10)\n",
    "ax.set_yticks(range(len(labels)))\n",
    "ax.set_yticklabels(labels, fontsize=10)\n",
    "plt.show()"
   ]
  },
  {
   "cell_type": "markdown",
   "metadata": {},
   "source": [
    "## Religion"
   ]
  },
  {
   "cell_type": "code",
   "execution_count": 25,
   "metadata": {},
   "outputs": [
    {
     "data": {
      "image/png": "[encoded data removed]",
      "text/plain": [
       "<Figure size 576x432 with 1 Axes>"
      ]
     },
     "metadata": {
      "needs_background": "light"
     },
     "output_type": "display_data"
    }
   ],
   "source": [
    "fig, ax = plt.subplots()\n",
    "ax = sns.countplot(data = df, y = 'religion', palette = 'Set2')\n",
    "labels = [item.get_text() for item in ax.get_yticklabels()]\n",
    "ax.set_title(\"Religion\", pad=10)\n",
    "ax.set_yticks(range(len(labels)))\n",
    "ax.set_yticklabels(labels, fontsize=8)\n",
    "plt.show()"
   ]
  },
  {
   "cell_type": "code",
   "execution_count": 26,
   "metadata": {},
   "outputs": [
    {
     "data": {
      "image/png": "[encoded data removed]",
      "text/plain": [
       "<Figure size 576x432 with 1 Axes>"
      ]
     },
     "metadata": {
      "needs_background": "light"
     },
     "output_type": "display_data"
    }
   ],
   "source": [
    "df['religion_cleaned'] = df.religion.str.split().str.get(0)\n",
    "fig, ax = plt.subplots()\n",
    "ax = sns.countplot(data = df, y = 'religion_cleaned', palette = 'Set2')\n",
    "labels = [item.get_text() for item in ax.get_yticklabels()]\n",
    "ax.set_title(\"Cleaned Religion\", pad=10)\n",
    "ax.set_yticks(range(len(labels)))\n",
    "ax.set_yticklabels(labels, fontsize=10)\n",
    "plt.show()"
   ]
  },
  {
   "cell_type": "markdown",
   "metadata": {},
   "source": [
    "## Sign"
   ]
  },
  {
   "cell_type": "code",
   "execution_count": 27,
   "metadata": {},
   "outputs": [
    {
     "data": {
      "image/png": "[encoded data removed]",
      "text/plain": [
       "<Figure size 576x432 with 1 Axes>"
      ]
     },
     "metadata": {
      "needs_background": "light"
     },
     "output_type": "display_data"
    }
   ],
   "source": [
    "df['sign_cleaned'] = df.sign.str.split().str.get(0)\n",
    "fig, ax = plt.subplots()\n",
    "ax = sns.countplot(data = df, y = 'sign_cleaned', palette = 'Set2')\n",
    "labels = [item.get_text() for item in ax.get_yticklabels()]\n",
    "ax.set_title(\"Cleaned Sign\", pad=10)\n",
    "ax.set_yticks(range(len(labels)))\n",
    "ax.set_yticklabels(labels, fontsize=10)\n",
    "plt.show()"
   ]
  },
  {
   "cell_type": "markdown",
   "metadata": {},
   "source": [
    "## Smokes"
   ]
  },
  {
   "cell_type": "code",
   "execution_count": 28,
   "metadata": {},
   "outputs": [
    {
     "data": {
      "image/png": "[encoded data removed]",
      "text/plain": [
       "<Figure size 576x432 with 1 Axes>"
      ]
     },
     "metadata": {
      "needs_background": "light"
     },
     "output_type": "display_data"
    }
   ],
   "source": [
    "fig, ax = plt.subplots()\n",
    "ax = sns.countplot(data = df, y = 'smokes', palette = 'Set2')\n",
    "labels = [item.get_text() for item in ax.get_yticklabels()]\n",
    "ax.set_title(\"Smoke\", pad=10)\n",
    "ax.set_yticks(range(len(labels)))\n",
    "ax.set_yticklabels(labels, fontsize=10)\n",
    "plt.show()"
   ]
  },
  {
   "cell_type": "markdown",
   "metadata": {},
   "source": [
    "# Part 1 - Machine Learning Model\n",
    "In order to create a model that predict a zodiac sign for a user, only some features are used to create model. As it is  a multi-classification, two machine learning models were chosen.\n",
    "  - **K Nearest Neighbors Classifier**\n",
    "  - **Random Forest Classifier**"
   ]
  },
  {
   "cell_type": "markdown",
   "metadata": {},
   "source": [
    "## Import Libraries for Classification"
   ]
  },
  {
   "cell_type": "code",
   "execution_count": 34,
   "metadata": {},
   "outputs": [],
   "source": [
    "# import necessary tools for preprocessing data\n",
    "from sklearn.model_selection import train_test_split\n",
    "from sklearn.pipeline import Pipeline\n",
    "from sklearn.compose import ColumnTransformer\n",
    "from sklearn.preprocessing import OneHotEncoder, StandardScaler, LabelEncoder\n",
    "\n",
    "# Import machine learning model classifiers\n",
    "from sklearn.neighbors import KNeighborsClassifier\n",
    "from sklearn.ensemble import RandomForestClassifier"
   ]
  },
  {
   "cell_type": "markdown",
   "metadata": {},
   "source": [
    "## Preprocessing Data"
   ]
  },
  {
   "cell_type": "code",
   "execution_count": 29,
   "metadata": {},
   "outputs": [
    {
     "data": {
      "text/plain": [
       "Index(['age', 'body_type', 'diet', 'drinks', 'drugs', 'education', 'essay0',\n",
       "       'essay1', 'essay2', 'essay3', 'essay4', 'essay5', 'essay6', 'essay7',\n",
       "       'essay8', 'essay9', 'ethnicity', 'height', 'income', 'job',\n",
       "       'last_online', 'location', 'offspring', 'orientation', 'pets',\n",
       "       'religion', 'sex', 'sign', 'smokes', 'speaks', 'status',\n",
       "       'religion_cleaned', 'sign_cleaned'],\n",
       "      dtype='object')"
      ]
     },
     "execution_count": 29,
     "metadata": {},
     "output_type": "execute_result"
    }
   ],
   "source": [
    "# Check all the columns in dataframe\n",
    "df.columns"
   ]
  },
  {
   "cell_type": "markdown",
   "metadata": {},
   "source": [
    "### Section 1: Not including essay columns data"
   ]
  },
  {
   "cell_type": "code",
   "execution_count": 30,
   "metadata": {},
   "outputs": [],
   "source": [
    "cols_to_classify = ['body_type', 'diet', 'drinks', 'drugs', 'job', 'smokes', 'pets',  'religion_cleaned', 'sign_cleaned']\n",
    "\n",
    "def create_classify_data(df, cols_to_classify):\n",
    "    data = df[cols_to_classify]   \n",
    "    # drop rows that have null values\n",
    "    data = data.dropna()\n",
    "    return data"
   ]
  },
  {
   "cell_type": "code",
   "execution_count": 31,
   "metadata": {},
   "outputs": [
    {
     "data": {
      "text/plain": [
       "Index(['body_type', 'diet', 'drinks', 'drugs', 'job', 'smokes', 'pets',\n",
       "       'religion_cleaned', 'sign_cleaned'],\n",
       "      dtype='object')"
      ]
     },
     "execution_count": 31,
     "metadata": {},
     "output_type": "execute_result"
    }
   ],
   "source": [
    "model_df = create_classify_data(df, cols_to_classify)\n",
    "model_df.columns"
   ]
  },
  {
   "cell_type": "code",
   "execution_count": 32,
   "metadata": {},
   "outputs": [
    {
     "data": {
      "text/plain": [
       "body_type           0\n",
       "diet                0\n",
       "drinks              0\n",
       "drugs               0\n",
       "job                 0\n",
       "smokes              0\n",
       "pets                0\n",
       "religion_cleaned    0\n",
       "sign_cleaned        0\n",
       "dtype: int64"
      ]
     },
     "execution_count": 32,
     "metadata": {},
     "output_type": "execute_result"
    }
   ],
   "source": [
    "model_df.isna().sum()"
   ]
  },
  {
   "cell_type": "code",
   "execution_count": 33,
   "metadata": {},
   "outputs": [
    {
     "data": {
      "text/plain": [
       "(12927, 9)"
      ]
     },
     "execution_count": 33,
     "metadata": {},
     "output_type": "execute_result"
    }
   ],
   "source": [
    "# check data size\n",
    "model_df.shape"
   ]
  },
  {
   "cell_type": "code",
   "execution_count": 35,
   "metadata": {},
   "outputs": [
    {
     "data": {
      "text/plain": [
       "array(['aquarius', 'aries', 'cancer', 'capricorn', 'gemini', 'leo',\n",
       "       'libra', 'pisces', 'sagittarius', 'scorpio', 'taurus', 'virgo'],\n",
       "      dtype=object)"
      ]
     },
     "execution_count": 35,
     "metadata": {},
     "output_type": "execute_result"
    }
   ],
   "source": [
    "# Prepare X\n",
    "X = model_df.iloc[:, :-1]\n",
    "\n",
    "# Prepare Y\n",
    "encoder = LabelEncoder()\n",
    "labels = encoder.fit_transform(model_df['sign_cleaned'])\n",
    "\n",
    "encoder.classes_"
   ]
  },
  {
   "cell_type": "code",
   "execution_count": 36,
   "metadata": {},
   "outputs": [],
   "source": [
    "# split data in to training groups and test groups\n",
    "X_train, X_test, y_train, y_test = train_test_split(\n",
    "    X, labels, test_size=0.2, random_state=1)\n",
    "\n",
    "# create column transformer to encode all columns with one hot encoder\n",
    "ct = ColumnTransformer([('ohe', OneHotEncoder(), ['body_type', 'diet', 'drinks', 'drugs', 'job', 'smokes', 'pets',\n",
    "       'religion_cleaned'])])"
   ]
  },
  {
   "cell_type": "markdown",
   "metadata": {},
   "source": [
    "### Training KNN Model with Different K values"
   ]
  },
  {
   "cell_type": "code",
   "execution_count": 37,
   "metadata": {},
   "outputs": [],
   "source": [
    "scores = []\n",
    "Ks = range(1,50)\n",
    "\n",
    "for k in Ks:\n",
    "    clf = Pipeline(steps=[('preprocess', ct), ('classify', KNeighborsClassifier(n_neighbors = k))])\n",
    "    clf.fit(X_train, y_train)\n",
    "    scores.append(clf.score(X_train, y_train))"
   ]
  },
  {
   "cell_type": "code",
   "execution_count": 38,
   "metadata": {},
   "outputs": [
    {
     "data": {
      "image/png": "[encoded data removed]",
      "text/plain": [
       "<Figure size 576x432 with 1 Axes>"
      ]
     },
     "metadata": {
      "needs_background": "light"
     },
     "output_type": "display_data"
    }
   ],
   "source": [
    "# plot the scores for each k\n",
    "plt.plot(Ks, scores, color='salmon', marker='o', markersize='5')\n",
    "plt.title(\"KNN Model's scores\")\n",
    "plt.xlabel(\"k\")\n",
    "plt.ylabel(\"score\")\n",
    "plt.show()"
   ]
  },
  {
   "cell_type": "markdown",
   "metadata": {},
   "source": [
    "### K-Nearest Neighbors Model Evaluation"
   ]
  },
  {
   "cell_type": "markdown",
   "metadata": {},
   "source": [
    "The more k value is, the less model's score is. From k over 3, the average accuracy from the training dataset were not better than around 0.35 which was very low. To see other measures for the KNN model, the k value 7 was chosen to train the model again."
   ]
  },
  {
   "cell_type": "code",
   "execution_count": 39,
   "metadata": {},
   "outputs": [
    {
     "data": {
      "text/plain": [
       "Pipeline(steps=[('preprocess',\n",
       "                 ColumnTransformer(transformers=[('ohe', OneHotEncoder(),\n",
       "                                                  ['body_type', 'diet',\n",
       "                                                   'drinks', 'drugs', 'job',\n",
       "                                                   'smokes', 'pets',\n",
       "                                                   'religion_cleaned'])])),\n",
       "                ('classify', KNeighborsClassifier(n_neighbors=7))])"
      ]
     },
     "execution_count": 39,
     "metadata": {},
     "output_type": "execute_result"
    }
   ],
   "source": [
    "KNN_classifier = Pipeline(steps=[('preprocess', ct), ('classify', KNeighborsClassifier(n_neighbors = 7))])\n",
    "KNN_classifier.fit(X_train, y_train)\n"
   ]
  },
  {
   "cell_type": "code",
   "execution_count": 40,
   "metadata": {},
   "outputs": [
    {
     "name": "stdout",
     "output_type": "stream",
     "text": [
      "              precision    recall  f1-score   support\n",
      "\n",
      "           0       0.24      0.49      0.32       776\n",
      "           1       0.27      0.42      0.33       844\n",
      "           2       0.29      0.39      0.33       931\n",
      "           3       0.30      0.28      0.29       766\n",
      "           4       0.33      0.36      0.34       943\n",
      "           5       0.32      0.29      0.31       925\n",
      "           6       0.32      0.28      0.30       855\n",
      "           7       0.30      0.24      0.27       817\n",
      "           8       0.31      0.20      0.25       844\n",
      "           9       0.31      0.21      0.25       845\n",
      "          10       0.35      0.22      0.27       860\n",
      "          11       0.33      0.19      0.24       935\n",
      "\n",
      "    accuracy                           0.30     10341\n",
      "   macro avg       0.31      0.30      0.29     10341\n",
      "weighted avg       0.31      0.30      0.29     10341\n",
      "\n"
     ]
    }
   ],
   "source": [
    "from sklearn.metrics import classification_report\n",
    "\n",
    "KNN_y_train_predictions = KNN_classifier.predict(X_train)\n",
    "print(classification_report(y_train, KNN_y_train_predictions))"
   ]
  },
  {
   "cell_type": "markdown",
   "metadata": {},
   "source": [
    "In order to have insight about precision, recall and f1-score for each class, a classification report was createdd. It showed that this KNN model prediction had quite low precision, recall, f1-score for each class at about 30%."
   ]
  },
  {
   "cell_type": "markdown",
   "metadata": {},
   "source": [
    "### Training Random Forest Model"
   ]
  },
  {
   "cell_type": "code",
   "execution_count": 53,
   "metadata": {},
   "outputs": [],
   "source": [
    "# preprocess train data for training again\n",
    "preprocess_train_data = ct.fit_transform(X_train)\n",
    "\n",
    "# create a Random Forest model classifier\n",
    "RF_classifier = RandomForestClassifier()\n",
    "RF_classifier.fit(preprocess_train_data, y_train)\n",
    "\n",
    "# predict training labels for training data using RF_classifier\n",
    "y_train_predictions = RF_classifier.predict(preprocess_train_data)"
   ]
  },
  {
   "cell_type": "markdown",
   "metadata": {},
   "source": [
    "### Random Forest Model Evaluation"
   ]
  },
  {
   "cell_type": "code",
   "execution_count": 54,
   "metadata": {},
   "outputs": [
    {
     "name": "stdout",
     "output_type": "stream",
     "text": [
      "              precision    recall  f1-score   support\n",
      "\n",
      "           0       0.88      0.87      0.88       776\n",
      "           1       0.86      0.86      0.86       844\n",
      "           2       0.85      0.87      0.86       931\n",
      "           3       0.90      0.87      0.88       766\n",
      "           4       0.88      0.85      0.87       943\n",
      "           5       0.88      0.88      0.88       925\n",
      "           6       0.85      0.90      0.87       855\n",
      "           7       0.85      0.86      0.85       817\n",
      "           8       0.84      0.88      0.86       844\n",
      "           9       0.89      0.86      0.87       845\n",
      "          10       0.87      0.86      0.86       860\n",
      "          11       0.88      0.88      0.88       935\n",
      "\n",
      "    accuracy                           0.87     10341\n",
      "   macro avg       0.87      0.87      0.87     10341\n",
      "weighted avg       0.87      0.87      0.87     10341\n",
      "\n"
     ]
    }
   ],
   "source": [
    "print(classification_report(y_train, y_train_predictions))"
   ]
  },
  {
   "cell_type": "markdown",
   "metadata": {},
   "source": [
    "Random Forest Model seems to be better with very high f1-score. However, this may happen because of overfitting data, for example, the trees in models may have too many levels of classification. And this model may not able to generalize the classification well."
   ]
  },
  {
   "cell_type": "markdown",
   "metadata": {},
   "source": [
    " ### Tuning Hyperparameters - Max Depth"
   ]
  },
  {
   "cell_type": "code",
   "execution_count": 55,
   "metadata": {},
   "outputs": [
    {
     "name": "stdout",
     "output_type": "stream",
     "text": [
      "[53, 50, 57, 58, 59, 55, 54, 54, 59, 60, 54, 53, 59, 51, 54, 51, 55, 50, 56, 57, 55, 51, 51, 67, 50, 51, 48, 49, 52, 54, 57, 56, 50, 59, 51, 53, 59, 57, 54, 54, 50, 51, 58, 52, 61, 51, 54, 55, 59, 59, 53, 56, 56, 60, 53, 50, 48, 53, 53, 50, 57, 60, 58, 56, 52, 57, 47, 61, 52, 58, 46, 65, 54, 54, 62, 53, 53, 51, 57, 58, 52, 51, 59, 56, 65, 62, 50, 57, 53, 59, 63, 51, 49, 62, 50, 57, 59, 61, 52, 56]\n"
     ]
    }
   ],
   "source": [
    "# check max depth of each tree estimator\n",
    "tree_max_depths = [estimator.tree_.max_depth for estimator in RF_classifier.estimators_]\n",
    "print(tree_max_depths)"
   ]
  },
  {
   "cell_type": "markdown",
   "metadata": {},
   "source": [
    "Investingating about max depth of each tree in this random forest classifier, the max depth were at about 50-60. Therefore, we train a model again with max_depth equal to 25."
   ]
  },
  {
   "cell_type": "code",
   "execution_count": 57,
   "metadata": {},
   "outputs": [],
   "source": [
    "max_depths = range(1, 61)\n",
    "md_train_scores = []\n",
    "md_test_scores = []\n",
    "for depth in max_depths:\n",
    "    classifier1 = RandomForestClassifier(max_depth = depth)\n",
    "    classifier1.fit(preprocess_train_data, y_train)\n",
    "    y_train_predict = classifier1.predict(preprocess_train_data)\n",
    "    y_test_predict = classifier1.predict(preprocess_test_data)\n",
    "    md_train_scores.append(f1_score(y_train, y_train_predict, average='macro'))\n",
    "    md_test_scores.append(f1_score(y_test, y_test_predict, average='macro'))"
   ]
  },
  {
   "cell_type": "code",
   "execution_count": 58,
   "metadata": {},
   "outputs": [
    {
     "data": {
      "image/png": "[encoded data removed]",
      "text/plain": [
       "<Figure size 576x432 with 1 Axes>"
      ]
     },
     "metadata": {
      "needs_background": "light"
     },
     "output_type": "display_data"
    }
   ],
   "source": [
    "# plot scores graphs\n",
    "plt.plot(max_depths, md_train_scores, label=\"Training data\")\n",
    "plt.plot(max_depths, md_test_scores, label=\"Testing data\")\n",
    "plt.legend()\n",
    "plt.title(\"F1 Score\")\n",
    "plt.xlabel(\"max_depth\")\n",
    "plt.ylabel(\"f1-score\")\n",
    "plt.show()"
   ]
  },
  {
   "cell_type": "markdown",
   "metadata": {},
   "source": [
    "As the max depth of trees grew, the prediction's f1 scores for training data leveled off at max depth equal to 20. However, it failed to classify testing data which prediction's scores were around at 0.1. To "
   ]
  },
  {
   "cell_type": "code",
   "execution_count": 59,
   "metadata": {},
   "outputs": [
    {
     "name": "stdout",
     "output_type": "stream",
     "text": [
      "              precision    recall  f1-score   support\n",
      "\n",
      "           0       0.92      0.85      0.88       776\n",
      "           1       0.86      0.85      0.86       844\n",
      "           2       0.83      0.87      0.85       931\n",
      "           3       0.93      0.83      0.88       766\n",
      "           4       0.78      0.90      0.84       943\n",
      "           5       0.86      0.89      0.87       925\n",
      "           6       0.90      0.85      0.88       855\n",
      "           7       0.88      0.83      0.85       817\n",
      "           8       0.87      0.85      0.86       844\n",
      "           9       0.85      0.86      0.85       845\n",
      "          10       0.89      0.85      0.87       860\n",
      "          11       0.84      0.88      0.86       935\n",
      "\n",
      "    accuracy                           0.86     10341\n",
      "   macro avg       0.87      0.86      0.86     10341\n",
      "weighted avg       0.86      0.86      0.86     10341\n",
      "\n"
     ]
    }
   ],
   "source": [
    "RF_classifier = RandomForestClassifier(max_depth = 20)\n",
    "RF_classifier.fit(preprocess_train_data, y_train)\n",
    "y_train_predictions = RF_classifier.predict(preprocess_train_data)\n",
    "print(classification_report(y_train, y_train_predictions))"
   ]
  },
  {
   "cell_type": "markdown",
   "metadata": {},
   "source": [
    "To see more in details, the classification report was created. It seems to be good prediction. Then, I evaluated the model using testing data."
   ]
  },
  {
   "cell_type": "code",
   "execution_count": 60,
   "metadata": {},
   "outputs": [
    {
     "name": "stdout",
     "output_type": "stream",
     "text": [
      "              precision    recall  f1-score   support\n",
      "\n",
      "           0       0.09      0.07      0.08       207\n",
      "           1       0.12      0.11      0.11       207\n",
      "           2       0.10      0.13      0.11       217\n",
      "           3       0.07      0.04      0.05       187\n",
      "           4       0.09      0.14      0.11       220\n",
      "           5       0.09      0.08      0.09       239\n",
      "           6       0.10      0.09      0.09       215\n",
      "           7       0.09      0.07      0.08       222\n",
      "           8       0.10      0.09      0.10       192\n",
      "           9       0.05      0.05      0.05       218\n",
      "          10       0.10      0.09      0.10       233\n",
      "          11       0.05      0.07      0.06       229\n",
      "\n",
      "    accuracy                           0.09      2586\n",
      "   macro avg       0.09      0.09      0.08      2586\n",
      "weighted avg       0.09      0.09      0.08      2586\n",
      "\n"
     ]
    }
   ],
   "source": [
    "preprocess_test_data = ct.transform(X_test)\n",
    "y_test_predictions = RF_classifier.predict(preprocess_test_data)\n",
    "print(classification_report(y_test, y_test_predictions))"
   ]
  },
  {
   "cell_type": "markdown",
   "metadata": {},
   "source": [
    "It turned out to be worse than the KNN model and not better than normal guess."
   ]
  },
  {
   "cell_type": "markdown",
   "metadata": {},
   "source": [
    " ### Tuning Hyperparameters - Max Leaf Nodes"
   ]
  },
  {
   "cell_type": "code",
   "execution_count": 48,
   "metadata": {},
   "outputs": [
    {
     "name": "stdout",
     "output_type": "stream",
     "text": [
      "[2958, 1943, 2820, 2119, 3157, 2404, 2682, 2703, 2644, 2711, 2570, 2254, 2682, 2174, 2720, 2289, 2490, 2902, 3340, 2500, 2850, 2394, 2328, 2332, 2351, 2049, 2708, 3394, 2804, 1736, 2675, 2592, 2873, 2209, 2983, 2586, 2064, 2873, 1760, 3043, 2698, 2379, 2984, 2849, 3002, 3058, 1875, 3143, 2181, 2739, 1902, 2166, 2432, 3164, 2679, 2165, 2936, 2959, 1629, 2022, 3405, 3289, 2452, 2408, 2980, 2931, 2967, 2941, 2890, 3037, 2855, 2552, 2682, 3482, 2528, 2339, 2868, 3090, 2643, 2064, 1589, 2844, 2027, 1984, 2988, 2304, 2443, 2694, 2072, 2445, 2730, 2976, 2217, 3399, 2770, 2864, 3162, 2495, 1669, 2030]\n"
     ]
    }
   ],
   "source": [
    "# check max leaf nodes of each tree in the classifier\n",
    "max_terminal_leaves = [estimator.get_n_leaves() for estimator in RF_classifier.estimators_]\n",
    "print(max_terminal_leaves)"
   ]
  },
  {
   "cell_type": "code",
   "execution_count": 50,
   "metadata": {},
   "outputs": [],
   "source": [
    "from sklearn.metrics import f1_score\n",
    "\n",
    "# Training the random forest classifier again with different max_leaf_nodes starting from 12\n",
    "max_nodes = range(12,1000)\n",
    "train_scores = []\n",
    "test_scores = []\n",
    "for n in max_nodes:\n",
    "    classifier = RandomForestClassifier(max_depth = 25, max_leaf_nodes = n)\n",
    "    classifier.fit(preprocess_train_data, y_train)\n",
    "    y_train_predict = classifier.predict(preprocess_train_data)\n",
    "    y_test_predict = classifier.predict(preprocess_test_data)\n",
    "    train_scores.append(f1_score(y_train, y_train_predict, average='macro'))\n",
    "    test_scores.append(f1_score(y_test, y_test_predict, average='macro'))"
   ]
  },
  {
   "cell_type": "code",
   "execution_count": 51,
   "metadata": {},
   "outputs": [
    {
     "data": {
      "image/png": "[encoded data removed]",
      "text/plain": [
       "<Figure size 576x432 with 1 Axes>"
      ]
     },
     "metadata": {
      "needs_background": "light"
     },
     "output_type": "display_data"
    }
   ],
   "source": [
    "# plot scores graphs\n",
    "plt.plot(max_nodes, train_scores, label=\"Training data\")\n",
    "plt.plot(max_nodes, test_scores, label=\"Testing data\")\n",
    "plt.legend()\n",
    "plt.title(\"F1 Score\")\n",
    "plt.xlabel(\"max_leaf_nodes\")\n",
    "plt.ylabel(\"f1-score\")\n",
    "plt.show()"
   ]
  },
  {
   "cell_type": "markdown",
   "metadata": {},
   "source": [
    "Even though the model got higher scores when the max_leaf_nodes increased, the scores for testing data couldn't do better than 0.1. This means that this model is not the proper model for identifying a zodiac sign for a user."
   ]
  },
  {
   "cell_type": "markdown",
   "metadata": {},
   "source": [
    "### Tuning Hyperparameters - Min Sample Split"
   ]
  },
  {
   "cell_type": "code",
   "execution_count": 62,
   "metadata": {},
   "outputs": [],
   "source": [
    "min_samples_splits = range(2, 1000)\n",
    "mss_train_scores = []\n",
    "mss_test_scores = []\n",
    "for n in min_samples_splits:\n",
    "    classifier2 = RandomForestClassifier(max_depth = 20 , min_samples_split=n)\n",
    "    classifier2.fit(preprocess_train_data, y_train)\n",
    "    y_train_predict = classifier2.predict(preprocess_train_data)\n",
    "    y_test_predict = classifier2.predict(preprocess_test_data)\n",
    "    mss_train_scores.append(f1_score(y_train, y_train_predict, average='macro'))\n",
    "    mss_test_scores.append(f1_score(y_test, y_test_predict, average='macro'))"
   ]
  },
  {
   "cell_type": "code",
   "execution_count": 63,
   "metadata": {},
   "outputs": [
    {
     "data": {
      "image/png": "[encoded data removed]",
      "text/plain": [
       "<Figure size 576x432 with 1 Axes>"
      ]
     },
     "metadata": {
      "needs_background": "light"
     },
     "output_type": "display_data"
    }
   ],
   "source": [
    "# plot scores graphs\n",
    "plt.plot(min_samples_splits, mss_train_scores, label=\"Training data\")\n",
    "plt.plot(min_samples_splits, mss_test_scores, label=\"Testing data\")\n",
    "plt.legend()\n",
    "plt.title(\"F1 Score\")\n",
    "plt.xlabel(\"min_samples_split\")\n",
    "plt.ylabel(\"F1 score\")\n",
    "plt.show()"
   ]
  },
  {
   "cell_type": "markdown",
   "metadata": {},
   "source": [
    "Changing min samples split, it indicated that the scores of training data and testing data will come closer when minimum samples for spliting is about 600. Unfortunately, the f1-scores were also under 0.2. After tuning hyperparameters of random forest classifier, it confirmed that this classiffier is not a good classifier for predicting signs."
   ]
  },
  {
   "cell_type": "markdown",
   "metadata": {},
   "source": [
    "### Section 2 - Including Essay Columns Data"
   ]
  },
  {
   "cell_type": "markdown",
   "metadata": {},
   "source": [
    "As there might be some underlying words that shows how people live or think, including essay columns in the dataset might generate different result."
   ]
  },
  {
   "cell_type": "code",
   "execution_count": 64,
   "metadata": {},
   "outputs": [],
   "source": [
    "#import TfidfVectorizer for preprocessing text data\n",
    "from sklearn.feature_extraction.text import TfidfVectorizer"
   ]
  },
  {
   "cell_type": "markdown",
   "metadata": {},
   "source": [
    "### Preprocessing data"
   ]
  },
  {
   "cell_type": "code",
   "execution_count": 65,
   "metadata": {},
   "outputs": [],
   "source": [
    "cols_to_classify2 = ['body_type', 'diet', 'drinks', 'drugs', 'job',  'smokes', 'pets', 'religion_cleaned', 'essay0', 'essay1', 'essay2', 'essay3', 'essay4', 'essay5', 'essay6', 'essay7', 'essay8', 'essay9', 'sign_cleaned']\n",
    "def create_classify_data2(df, cols_to_classify2):\n",
    "    data = df[cols_to_classify2]\n",
    "    \n",
    "    essay_columns = ['essay0', 'essay1', 'essay2', 'essay3', 'essay4', 'essay5', 'essay6', 'essay7', 'essay8', 'essay9']\n",
    "    # delete all html tags, new line escape, and http links in the essay columns\n",
    "    filled_df = data.replace({r'<[A-Za-z\\/][^>]*>' : '', r'\\n' : ' ', r'http[^ ]*[ ]' : ' ', r'http[^ ]*' : ''}, regex=True)\n",
    "    # fill the essay columns with null values with a space\n",
    "    filled_df = filled_df.dropna()\n",
    "    # create the 'combined_essay' column by combining all the essay columns together\n",
    "    filled_df['combined_essay'] = filled_df[essay_columns].apply(lambda row: ' '.join(row.values.astype(str)), axis=1)\n",
    "              \n",
    "    return filled_df"
   ]
  },
  {
   "cell_type": "code",
   "execution_count": 66,
   "metadata": {},
   "outputs": [
    {
     "data": {
      "text/plain": [
       "body_type           0\n",
       "diet                0\n",
       "drinks              0\n",
       "drugs               0\n",
       "job                 0\n",
       "smokes              0\n",
       "pets                0\n",
       "religion_cleaned    0\n",
       "essay0              0\n",
       "essay1              0\n",
       "essay2              0\n",
       "essay3              0\n",
       "essay4              0\n",
       "essay5              0\n",
       "essay6              0\n",
       "essay7              0\n",
       "essay8              0\n",
       "essay9              0\n",
       "sign_cleaned        0\n",
       "combined_essay      0\n",
       "dtype: int64"
      ]
     },
     "execution_count": 66,
     "metadata": {},
     "output_type": "execute_result"
    }
   ],
   "source": [
    "new_df = create_classify_data2(df,cols_to_classify2)\n",
    "new_df.isna().sum()"
   ]
  },
  {
   "cell_type": "code",
   "execution_count": 67,
   "metadata": {},
   "outputs": [],
   "source": [
    "# select only used columns\n",
    "model_df2 = new_df[['body_type', 'diet', 'drinks', 'drugs', 'job',  'smokes', 'pets', 'religion_cleaned', 'combined_essay', 'sign_cleaned']]"
   ]
  },
  {
   "cell_type": "code",
   "execution_count": 68,
   "metadata": {},
   "outputs": [
    {
     "data": {
      "text/plain": [
       "array(['aquarius', 'aries', 'cancer', 'capricorn', 'gemini', 'leo',\n",
       "       'libra', 'pisces', 'sagittarius', 'scorpio', 'taurus', 'virgo'],\n",
       "      dtype=object)"
      ]
     },
     "execution_count": 68,
     "metadata": {},
     "output_type": "execute_result"
    }
   ],
   "source": [
    "# Prepare X\n",
    "X2 = model_df2.iloc[:, :-1]\n",
    "\n",
    "# Prepare Y\n",
    "encoder = LabelEncoder()\n",
    "Y2 = encoder.fit_transform(model_df2['sign_cleaned'])\n",
    "\n",
    "encoder.classes_"
   ]
  },
  {
   "cell_type": "code",
   "execution_count": 69,
   "metadata": {},
   "outputs": [],
   "source": [
    "train_data, test_data, train_labels, test_labels = train_test_split(X2, Y2, random_state=0)\n",
    "ct2 = ColumnTransformer([ \n",
    "    ('tfidf', TfidfVectorizer(), 'combined_essay'),\n",
    "    ('onehot', OneHotEncoder(), ['body_type', 'diet', 'drinks', 'drugs', 'job', 'smokes', 'pets', 'religion_cleaned'])])"
   ]
  },
  {
   "cell_type": "markdown",
   "metadata": {},
   "source": [
    "### Training KNN Model"
   ]
  },
  {
   "cell_type": "code",
   "execution_count": 73,
   "metadata": {},
   "outputs": [],
   "source": [
    "scores2 = []\n",
    "Ks = range(1,50)\n",
    "\n",
    "for k in Ks:\n",
    "    clf = Pipeline(steps=[('preprocess', ct2), ('classify', KNeighborsClassifier(n_neighbors = k))])\n",
    "    clf.fit(train_data, train_labels)\n",
    "    scores2.append(clf.score(train_data, train_labels))"
   ]
  },
  {
   "cell_type": "code",
   "execution_count": 74,
   "metadata": {},
   "outputs": [
    {
     "data": {
      "image/png": "[encoded data removed]",
      "text/plain": [
       "<Figure size 576x432 with 1 Axes>"
      ]
     },
     "metadata": {
      "needs_background": "light"
     },
     "output_type": "display_data"
    }
   ],
   "source": [
    "# plot the scores for each k\n",
    "plt.plot(Ks, scores2, color='darkorchid', marker='o', markersize='5')\n",
    "plt.title(\"KNN Model (with text data)'s scores\")\n",
    "plt.xlabel(\"k\")\n",
    "plt.ylabel(\"score\")\n",
    "plt.show()"
   ]
  },
  {
   "cell_type": "markdown",
   "metadata": {},
   "source": [
    "Including essay columns in the dataset and using K-Nearest Neighbors did not change the results much.  The scores still remained low."
   ]
  },
  {
   "cell_type": "markdown",
   "metadata": {},
   "source": [
    "### Training with Random Forest Model"
   ]
  },
  {
   "cell_type": "code",
   "execution_count": 76,
   "metadata": {},
   "outputs": [],
   "source": [
    "# preprocess train data and test data for training again\n",
    "preprocess_train_data2 = ct2.fit_transform(train_data)\n",
    "preprocess_test_data2 = ct2.transform(test_data)\n",
    "# create a Random Forest model classifier\n",
    "RF_classifier2 = RandomForestClassifier()\n",
    "RF_classifier2.fit(preprocess_train_data2, train_labels)\n",
    "\n",
    "# predict training labels for training data using RF_classifier\n",
    "RF2_train_predictions = RF_classifier2.predict(preprocess_train_data2)"
   ]
  },
  {
   "cell_type": "markdown",
   "metadata": {},
   "source": [
    "## Random Forest Model Evaluation"
   ]
  },
  {
   "cell_type": "code",
   "execution_count": 88,
   "metadata": {},
   "outputs": [
    {
     "name": "stdout",
     "output_type": "stream",
     "text": [
      "              precision    recall  f1-score   support\n",
      "\n",
      "           0       1.00      1.00      1.00       452\n",
      "           1       1.00      1.00      1.00       520\n",
      "           2       1.00      1.00      1.00       551\n",
      "           3       1.00      1.00      1.00       433\n",
      "           4       1.00      1.00      1.00       533\n",
      "           5       1.00      1.00      1.00       539\n",
      "           6       1.00      1.00      1.00       503\n",
      "           7       1.00      1.00      1.00       453\n",
      "           8       1.00      1.00      1.00       483\n",
      "           9       1.00      1.00      1.00       474\n",
      "          10       1.00      1.00      1.00       491\n",
      "          11       1.00      1.00      1.00       535\n",
      "\n",
      "    accuracy                           1.00      5967\n",
      "   macro avg       1.00      1.00      1.00      5967\n",
      "weighted avg       1.00      1.00      1.00      5967\n",
      "\n"
     ]
    }
   ],
   "source": [
    "print(classification_report(train_labels, RF2_train_predictions))"
   ]
  },
  {
   "cell_type": "code",
   "execution_count": 89,
   "metadata": {
    "scrolled": true
   },
   "outputs": [
    {
     "name": "stdout",
     "output_type": "stream",
     "text": [
      "              precision    recall  f1-score   support\n",
      "\n",
      "           0       0.13      0.09      0.10       164\n",
      "           1       0.09      0.14      0.11       168\n",
      "           2       0.11      0.18      0.14       175\n",
      "           3       0.09      0.05      0.06       143\n",
      "           4       0.11      0.15      0.13       163\n",
      "           5       0.09      0.12      0.10       177\n",
      "           6       0.10      0.10      0.10       166\n",
      "           7       0.08      0.05      0.06       152\n",
      "           8       0.08      0.05      0.06       164\n",
      "           9       0.09      0.05      0.06       170\n",
      "          10       0.08      0.06      0.07       171\n",
      "          11       0.11      0.11      0.11       176\n",
      "\n",
      "    accuracy                           0.10      1989\n",
      "   macro avg       0.10      0.10      0.09      1989\n",
      "weighted avg       0.10      0.10      0.09      1989\n",
      "\n"
     ]
    }
   ],
   "source": [
    "RF2_test_predictions = RF_classifier2.predict(preprocess_test_data2)\n",
    "print(classification_report(test_labels, RF2_test_predictions))"
   ]
  },
  {
   "cell_type": "markdown",
   "metadata": {},
   "source": [
    "# Conclusion\n",
    "Machine learning models, K-nearest neighbors classifier and random forest classifier cannot predict signs for users very well. K-Nearest Neighbor prediction's rate is at about 30% which is better than the random forest model. The random forest model can predict training data with high f1-scores but it is due to overfitting on training data. For prediction of testing data, random forest model cannot do better than normal guess which is around 8%.\n"
   ]
  },
  {
   "cell_type": "markdown",
   "metadata": {},
   "source": [
    "# Future Work\n",
    "Since the models are based on features provided, to increase the accuracy of prediction user's features should be discussed more. Which data we should collect more from users. Also, the data collected should not contain a lof of null values. With plenty of non-values givened in the features may have effects on classification"
   ]
  }
 ],
 "metadata": {
  "kernelspec": {
   "display_name": "Python 3",
   "language": "python",
   "name": "python3"
  },
  "language_info": {
   "codemirror_mode": {
    "name": "ipython",
    "version": 3
   },
   "file_extension": ".py",
   "mimetype": "text/x-python",
   "name": "python",
   "nbconvert_exporter": "python",
   "pygments_lexer": "ipython3",
   "version": "3.8.3"
  }
 },
 "nbformat": 4,
 "nbformat_minor": 4
}
